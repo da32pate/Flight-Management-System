{
 "cells": [
  {
   "cell_type": "code",
   "execution_count": 1,
   "id": "43e2a566",
   "metadata": {},
   "outputs": [],
   "source": [
    "# importing the lib\n",
    "from selenium import webdriver\n",
    "from selenium.webdriver.common.keys import Keys\n",
    "from bs4 import BeautifulSoup\n",
    "import pandas\n",
    "import numpy\n",
    "import time\n",
    "import sys\n",
    "from selenium.webdriver.chrome.service import service\n",
    "from webdriver_manager.chrome import ChromeDriverManager\n",
    "from selenium.webdriver.common.by import By"
   ]
  },
  {
   "cell_type": "code",
   "execution_count": 21,
   "id": "7fdbef32",
   "metadata": {},
   "outputs": [],
   "source": [
    "# Driver path for google chrome\n",
    "# driver_path = 'S:\\chromedriver\\chromedriver_win32\\chromedriver.exe'\n",
    "# url_kayak = ' https://www.ca.kayak.com/flights/YYZ-DEL/2022-02-20?sort=bestflight_a'\n",
    "url_aircanada = \"https://www.aircanada.com/ca/en/aco/home/app.html#/search?org1=YYZ&dest1=DEL&orgType1=A&destType1=A&departure1=03/07/2022&marketCode=INT&numberOfAdults=1&numberOfYouth=0&numberOfChildren=0&numberOfInfants=0&numberOfInfantsOnSeat=0&tripType=O&isFlexible=false\""
   ]
  },
  {
   "cell_type": "code",
   "execution_count": 57,
   "id": "2e734025",
   "metadata": {},
   "outputs": [
    {
     "name": "stderr",
     "output_type": "stream",
     "text": [
      "\n",
      "\n",
      "====== WebDriver manager ======\n",
      "Current google-chrome version is 98.0.4758\n",
      "Get LATEST chromedriver version for 98.0.4758 google-chrome\n",
      "Driver [C:\\Users\\Haet\\.wdm\\drivers\\chromedriver\\win32\\98.0.4758.80\\chromedriver.exe] found in cache\n",
      "<ipython-input-57-9a5ee2195a9c>:1: DeprecationWarning: executable_path has been deprecated, please pass in a Service object\n",
      "  driver = webdriver.Chrome(ChromeDriverManager().install())\n"
     ]
    }
   ],
   "source": [
    "\n",
    "driver = webdriver.Chrome(ChromeDriverManager().install())\n",
    "driver.maximize_window()\n",
    "driver.get(url_aircanada)\n",
    "\n"
   ]
  },
  {
   "cell_type": "code",
   "execution_count": 23,
   "id": "7e25b5d5",
   "metadata": {},
   "outputs": [],
   "source": [
    "#  opening the page source\n",
    "page_source = driver.page_source"
   ]
  },
  {
   "cell_type": "code",
   "execution_count": 24,
   "id": "7165234b",
   "metadata": {},
   "outputs": [],
   "source": [
    "# //a[@id=\"XbpF-loadMore\"]\n",
    "\n",
    "# //a[@class=\"moreButton\"]"
   ]
  },
  {
   "cell_type": "code",
   "execution_count": 25,
   "id": "d9153c4b",
   "metadata": {},
   "outputs": [],
   "source": [
    "# used in kayak to click show more button\n",
    "# show_more_button = driver.find_elements_by_xpath(\"//a[@class='moreButton']\")[0]\n",
    "# show_more_button.click()"
   ]
  },
  {
   "cell_type": "code",
   "execution_count": 26,
   "id": "8c6efe52",
   "metadata": {},
   "outputs": [],
   "source": [
    "# a = driver.find_elements_by_xpath(\"//div[@class='display-on-hover']\")[0].get_attribute(\"innerHTML\")\n",
    "# a = driver.find_elements_by_xpath(\"//div[@class='display-on-hover']\").text"
   ]
  },
  {
   "cell_type": "markdown",
   "id": "474f2b1b",
   "metadata": {},
   "source": [
    "## Price list"
   ]
  },
  {
   "cell_type": "code",
   "execution_count": 27,
   "id": "bc2c84ba",
   "metadata": {},
   "outputs": [
    {
     "name": "stderr",
     "output_type": "stream",
     "text": [
      "<ipython-input-27-513d9e4623f1>:1: DeprecationWarning: find_elements_by_* commands are deprecated. Please use find_elements() instead\n",
      "  price_list = driver.find_elements_by_xpath(\"//div[@class='display-on-hover']\")\n"
     ]
    }
   ],
   "source": [
    "price_list = driver.find_elements_by_xpath(\"//div[@class='display-on-hover']\")"
   ]
  },
  {
   "cell_type": "code",
   "execution_count": 28,
   "id": "8384c0cd",
   "metadata": {},
   "outputs": [],
   "source": [
    "for i in range(len(price_list)):\n",
    "    price_list[i]=price_list[i].get_attribute('innerHTML')"
   ]
  },
  {
   "cell_type": "code",
   "execution_count": null,
   "id": "964e2cc1",
   "metadata": {},
   "outputs": [],
   "source": []
  },
  {
   "cell_type": "code",
   "execution_count": 32,
   "id": "22d04a0d",
   "metadata": {},
   "outputs": [
    {
     "name": "stderr",
     "output_type": "stream",
     "text": [
      "<ipython-input-32-31284d189245>:2: DeprecationWarning: find_elements_by_* commands are deprecated. Please use find_elements() instead\n",
      "  date = driver.find_elements_by_xpath(\"//span[@class='visible-xs']\")\n"
     ]
    }
   ],
   "source": [
    "#adding date\n",
    "date = driver.find_elements_by_xpath(\"//span[@class='visible-xs']\")"
   ]
  },
  {
   "cell_type": "code",
   "execution_count": 33,
   "id": "0af86f91",
   "metadata": {},
   "outputs": [
    {
     "data": {
      "text/plain": [
       "'Sun, Jul 3'"
      ]
     },
     "execution_count": 33,
     "metadata": {},
     "output_type": "execute_result"
    }
   ],
   "source": [
    "date[0].get_attribute('innerHTML')"
   ]
  },
  {
   "cell_type": "code",
   "execution_count": 34,
   "id": "d18af840",
   "metadata": {},
   "outputs": [
    {
     "name": "stderr",
     "output_type": "stream",
     "text": [
      "<ipython-input-34-2860966a5669>:1: DeprecationWarning: find_elements_by_* commands are deprecated. Please use find_elements() instead\n",
      "  departure_time = driver.find_elements_by_xpath(\"//div[@class='itinerary-depart-time depart-time']\")\n",
      "<ipython-input-34-2860966a5669>:2: DeprecationWarning: find_elements_by_* commands are deprecated. Please use find_elements() instead\n",
      "  arrival_time = driver.find_elements_by_xpath(\"//div[@class='itinerary-arrival-time arrival-time']\")\n"
     ]
    }
   ],
   "source": [
    "departure_time = driver.find_elements_by_xpath(\"//div[@class='itinerary-depart-time depart-time']\")\n",
    "arrival_time = driver.find_elements_by_xpath(\"//div[@class='itinerary-arrival-time arrival-time']\")"
   ]
  },
  {
   "cell_type": "code",
   "execution_count": 35,
   "id": "9401fddd",
   "metadata": {},
   "outputs": [],
   "source": [
    "for i in range(len(departure_time)):\n",
    "    departure_time[i]=departure_time[i].get_attribute('innerHTML')\n",
    "    arrival_time[i] = arrival_time[i].get_attribute('innerHTML')"
   ]
  },
  {
   "cell_type": "code",
   "execution_count": 36,
   "id": "8f632dc5",
   "metadata": {},
   "outputs": [
    {
     "data": {
      "text/plain": [
       "['\\n      21:25\\n    ',\n",
       " '\\n      23:15\\n    ',\n",
       " '\\n      01:55\\n    ',\n",
       " '\\n      00:55\\n    ',\n",
       " '\\n      23:15\\n    ',\n",
       " '\\n      21:30\\n    ',\n",
       " '\\n      02:30\\n    ',\n",
       " '\\n      02:30\\n    ',\n",
       " '\\n      23:50\\n    ',\n",
       " '\\n      21:30\\n    ',\n",
       " '\\n      02:30\\n    ',\n",
       " '\\n      00:55\\n    ',\n",
       " '\\n      00:55\\n    ',\n",
       " '\\n      21:30\\n    ']"
      ]
     },
     "execution_count": 36,
     "metadata": {},
     "output_type": "execute_result"
    }
   ],
   "source": [
    "arrival_time"
   ]
  },
  {
   "cell_type": "code",
   "execution_count": 58,
   "id": "e4160c3f",
   "metadata": {},
   "outputs": [
    {
     "name": "stderr",
     "output_type": "stream",
     "text": [
      "<ipython-input-58-6a41325b2a4d>:1: DeprecationWarning: find_elements_by_* commands are deprecated. Please use find_elements() instead\n",
      "  details = driver.find_elements_by_xpath(\"//span[@id='recommendation_PREM_0']\")\n"
     ]
    }
   ],
   "source": [
    "details = driver.find_elements_by_xpath(\"//span[@id='recommendation_PREM_0']\")"
   ]
  },
  {
   "cell_type": "code",
   "execution_count": 59,
   "id": "2b3f9291",
   "metadata": {},
   "outputs": [
    {
     "data": {
      "text/plain": [
       "'Flight from Toronto YYZ on Sunday, July 3, 2022 at 21:00, arriving in Delhi DEL at 01:55 Tuesday, July 5, 2022. This flight includes a connection in Doha. Segment 1: Flight on Sunday, July 3, 2022, departing from Toronto YYZ at 21:00 and arriving in Doha DOH at 15:50 Monday, July 4, 2022. Wifi available. . Segment 2: Flight on Monday, July 4, 2022, departing from Doha DOH at 19:20 and arriving in Delhi DEL at 01:55 Tuesday, July 5, 2022. . '"
      ]
     },
     "execution_count": 59,
     "metadata": {},
     "output_type": "execute_result"
    }
   ],
   "source": [
    "details[0].get_attribute('innerHTML')"
   ]
  },
  {
   "cell_type": "code",
   "execution_count": 78,
   "id": "c8b1c6d7",
   "metadata": {
    "scrolled": false
   },
   "outputs": [
    {
     "name": "stderr",
     "output_type": "stream",
     "text": [
      "<ipython-input-78-fa1520e06bc4>:6: DeprecationWarning: find_element_by_* commands are deprecated. Please use find_element() instead\n",
      "  if driver.find_element_by_xpath(\"//span[@id='recommendation_PREM_\"+str(values)+\"']\"):\n",
      "<ipython-input-78-fa1520e06bc4>:8: DeprecationWarning: find_element_by_* commands are deprecated. Please use find_element() instead\n",
      "  a= driver.find_element_by_xpath(\"//span[@id='recommendation_PREM_\"+str(values)+\"']\").get_attribute(\"innerHTML\")\n"
     ]
    }
   ],
   "source": [
    "premium = \"//span[@id='recommendation_PREM_\"+b+\"']\"\n",
    "premiuim_list=[]\n",
    "premium_desc=[]\n",
    "for values in range(0,100):\n",
    "    try:\n",
    "        if driver.find_element_by_xpath(\"//span[@id='recommendation_PREM_\"+str(values)+\"']\"):\n",
    "            premiuim_list.append(values)\n",
    "            a= driver.find_element_by_xpath(\"//span[@id='recommendation_PREM_\"+str(values)+\"']\").get_attribute(\"innerHTML\")\n",
    "            premium_desc.append(a)\n",
    "    except:\n",
    "        pass\n",
    "\n",
    "                 \n",
    "            "
   ]
  },
  {
   "cell_type": "code",
   "execution_count": 80,
   "id": "53bb010d",
   "metadata": {},
   "outputs": [
    {
     "data": {
      "text/plain": [
       "'Flight from Toronto YYZ on Sunday, July 3, 2022 at 21:00, arriving in Delhi DEL at 01:55 Tuesday, July 5, 2022. This flight includes a connection in Doha. Segment 1: Flight on Sunday, July 3, 2022, departing from Toronto YYZ at 21:00 and arriving in Doha DOH at 15:50 Monday, July 4, 2022. Wifi available. . Segment 2: Flight on Monday, July 4, 2022, departing from Doha DOH at 19:20 and arriving in Delhi DEL at 01:55 Tuesday, July 5, 2022. . '"
      ]
     },
     "execution_count": 80,
     "metadata": {},
     "output_type": "execute_result"
    }
   ],
   "source": [
    "premiuim_list\n",
    "premium_desc[0]"
   ]
  },
  {
   "cell_type": "code",
   "execution_count": 54,
   "id": "9ab8b57a",
   "metadata": {},
   "outputs": [
    {
     "name": "stdout",
     "output_type": "stream",
     "text": [
      "yes\n"
     ]
    },
    {
     "name": "stderr",
     "output_type": "stream",
     "text": [
      "<ipython-input-54-c838b286a43e>:1: DeprecationWarning: find_element_by_* commands are deprecated. Please use find_element() instead\n",
      "  if driver.find_element_by_xpath(\"//span[@id='recommendation_PREM_0']\"):\n"
     ]
    }
   ],
   "source": [
    "if driver.find_element_by_xpath(\"//span[@id='recommendation_PREM_0']\"):\n",
    "    print(\"yes\")"
   ]
  },
  {
   "cell_type": "code",
   "execution_count": 74,
   "id": "e74d0a05",
   "metadata": {},
   "outputs": [
    {
     "name": "stderr",
     "output_type": "stream",
     "text": [
      "<ipython-input-74-3aa60982dfa8>:3: DeprecationWarning: find_element_by_* commands are deprecated. Please use find_element() instead\n",
      "  if driver.find_element_by_xpath(\"//span[@id='recommendation_PREM_\"+str(values)+\"']\"):\n"
     ]
    }
   ],
   "source": [
    "values = 4\n",
    "try:\n",
    "    if driver.find_element_by_xpath(\"//span[@id='recommendation_PREM_\"+str(values)+\"']\"):\n",
    "        print(\"yes\")\n",
    "except:\n",
    "    pass"
   ]
  },
  {
   "cell_type": "code",
   "execution_count": null,
   "id": "9ecd0ae8",
   "metadata": {},
   "outputs": [],
   "source": []
  }
 ],
 "metadata": {
  "kernelspec": {
   "display_name": "Python 3",
   "language": "python",
   "name": "python3"
  },
  "language_info": {
   "codemirror_mode": {
    "name": "ipython",
    "version": 3
   },
   "file_extension": ".py",
   "mimetype": "text/x-python",
   "name": "python",
   "nbconvert_exporter": "python",
   "pygments_lexer": "ipython3",
   "version": "3.8.8"
  }
 },
 "nbformat": 4,
 "nbformat_minor": 5
}
