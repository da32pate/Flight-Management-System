{
 "cells": [
  {
   "cell_type": "code",
   "execution_count": 78,
   "id": "43e2a566",
   "metadata": {},
   "outputs": [],
   "source": [
    "# importing the lib\n",
    "from selenium import webdriver\n",
    "from selenium.webdriver.common.keys import Keys\n",
    "from bs4 import BeautifulSoup\n",
    "import pandas\n",
    "import numpy\n",
    "import time\n",
    "import sys\n",
    "from selenium.webdriver.chrome.service import service\n",
    "from webdriver_manager.chrome import ChromeDriverManager\n",
    "from selenium.webdriver.common.by import By"
   ]
  },
  {
   "cell_type": "code",
   "execution_count": 79,
   "id": "7fdbef32",
   "metadata": {},
   "outputs": [],
   "source": [
    "# Driver path for google chrome\n",
    "driver_path = 'S:\\chromedriver\\chromedriver_win32\\chromedriver.exe'\n",
    "# url_kayak = ' https://www.ca.kayak.com/flights/YYZ-DEL/2022-02-20?sort=bestflight_a'\n",
    "url_aircanada = \"https://www.aircanada.com/ca/en/aco/home/app.html#/search?org1=YYZ&dest1=DEL&orgType1=A&destType1=A&departure1=03/07/2022&marketCode=INT&numberOfAdults=1&numberOfYouth=0&numberOfChildren=0&numberOfInfants=0&numberOfInfantsOnSeat=0&tripType=O&isFlexible=false\""
   ]
  },
  {
   "cell_type": "code",
   "execution_count": 80,
   "id": "2e734025",
   "metadata": {},
   "outputs": [
    {
     "name": "stderr",
     "output_type": "stream",
     "text": [
      "\n",
      "\n",
      "====== WebDriver manager ======\n",
      "Current google-chrome version is 98.0.4758\n",
      "Get LATEST chromedriver version for 98.0.4758 google-chrome\n",
      "Driver [C:\\Users\\dhair\\.wdm\\drivers\\chromedriver\\win32\\98.0.4758.80\\chromedriver.exe] found in cache\n",
      "<ipython-input-80-9a5ee2195a9c>:1: DeprecationWarning: executable_path has been deprecated, please pass in a Service object\n",
      "  driver = webdriver.Chrome(ChromeDriverManager().install())\n"
     ]
    }
   ],
   "source": [
    "\n",
    "driver = webdriver.Chrome(ChromeDriverManager().install())\n",
    "driver.maximize_window()\n",
    "driver.get(url_aircanada)\n",
    "\n"
   ]
  },
  {
   "cell_type": "code",
   "execution_count": 81,
   "id": "7e25b5d5",
   "metadata": {},
   "outputs": [],
   "source": [
    "#  opening the page source\n",
    "page_source = driver.page_source"
   ]
  },
  {
   "cell_type": "code",
   "execution_count": 82,
   "id": "7165234b",
   "metadata": {},
   "outputs": [],
   "source": [
    "# //a[@id=\"XbpF-loadMore\"]\n",
    "\n",
    "# //a[@class=\"moreButton\"]"
   ]
  },
  {
   "cell_type": "code",
   "execution_count": 83,
   "id": "d9153c4b",
   "metadata": {},
   "outputs": [],
   "source": [
    "# used in kayak to click show more button\n",
    "# show_more_button = driver.find_elements_by_xpath(\"//a[@class='moreButton']\")[0]\n",
    "# show_more_button.click()"
   ]
  },
  {
   "cell_type": "code",
   "execution_count": 84,
   "id": "8c6efe52",
   "metadata": {},
   "outputs": [],
   "source": [
    "# a = driver.find_elements_by_xpath(\"//div[@class='display-on-hover']\")[0].get_attribute(\"innerHTML\")\n",
    "# a = driver.find_elements_by_xpath(\"//div[@class='display-on-hover']\").text"
   ]
  },
  {
   "cell_type": "code",
   "execution_count": 85,
   "id": "bc2c84ba",
   "metadata": {},
   "outputs": [
    {
     "name": "stderr",
     "output_type": "stream",
     "text": [
      "<ipython-input-85-513d9e4623f1>:1: DeprecationWarning: find_elements_by_* commands are deprecated. Please use find_elements() instead\n",
      "  price_list = driver.find_elements_by_xpath(\"//div[@class='display-on-hover']\")\n"
     ]
    }
   ],
   "source": [
    "price_list = driver.find_elements_by_xpath(\"//div[@class='display-on-hover']\")"
   ]
  },
  {
   "cell_type": "code",
   "execution_count": 86,
   "id": "8384c0cd",
   "metadata": {},
   "outputs": [],
   "source": [
    "for i in range(len(price_list)):\n",
    "    price_list[i]=price_list[i].get_attribute('innerHTML')"
   ]
  },
  {
   "cell_type": "code",
   "execution_count": 87,
   "id": "22d04a0d",
   "metadata": {},
   "outputs": [
    {
     "name": "stderr",
     "output_type": "stream",
     "text": [
      "<ipython-input-87-31284d189245>:2: DeprecationWarning: find_elements_by_* commands are deprecated. Please use find_elements() instead\n",
      "  date = driver.find_elements_by_xpath(\"//span[@class='visible-xs']\")\n"
     ]
    }
   ],
   "source": [
    "#adding date\n",
    "date = driver.find_elements_by_xpath(\"//span[@class='visible-xs']\")"
   ]
  },
  {
   "cell_type": "code",
   "execution_count": 88,
   "id": "0af86f91",
   "metadata": {},
   "outputs": [
    {
     "data": {
      "text/plain": [
       "'Sun, Jul 3'"
      ]
     },
     "execution_count": 88,
     "metadata": {},
     "output_type": "execute_result"
    }
   ],
   "source": [
    "date[0].get_attribute('innerHTML')"
   ]
  },
  {
   "cell_type": "code",
   "execution_count": 89,
   "id": "d18af840",
   "metadata": {},
   "outputs": [
    {
     "name": "stderr",
     "output_type": "stream",
     "text": [
      "<ipython-input-89-2860966a5669>:1: DeprecationWarning: find_elements_by_* commands are deprecated. Please use find_elements() instead\n",
      "  departure_time = driver.find_elements_by_xpath(\"//div[@class='itinerary-depart-time depart-time']\")\n",
      "<ipython-input-89-2860966a5669>:2: DeprecationWarning: find_elements_by_* commands are deprecated. Please use find_elements() instead\n",
      "  arrival_time = driver.find_elements_by_xpath(\"//div[@class='itinerary-arrival-time arrival-time']\")\n"
     ]
    }
   ],
   "source": [
    "departure_time = driver.find_elements_by_xpath(\"//div[@class='itinerary-depart-time depart-time']\")\n",
    "arrival_time = driver.find_elements_by_xpath(\"//div[@class='itinerary-arrival-time arrival-time']\")"
   ]
  },
  {
   "cell_type": "code",
   "execution_count": 90,
   "id": "9401fddd",
   "metadata": {},
   "outputs": [],
   "source": [
    "for i in range(len(departure_time)):\n",
    "    departure_time[i]=departure_time[i].get_attribute('innerHTML')\n",
    "    arrival_time[i] = arrival_time[i].get_attribute('innerHTML')"
   ]
  },
  {
   "cell_type": "code",
   "execution_count": 97,
   "id": "e4160c3f",
   "metadata": {},
   "outputs": [
    {
     "name": "stderr",
     "output_type": "stream",
     "text": [
      "<ipython-input-97-6a41325b2a4d>:1: DeprecationWarning: find_elements_by_* commands are deprecated. Please use find_elements() instead\n",
      "  details = driver.find_elements_by_xpath(\"//span[@id='recommendation_PREM_0']\")\n"
     ]
    }
   ],
   "source": [
    "details = driver.find_elements_by_xpath(\"//span[@id='recommendation_PREM_0']\")"
   ]
  },
  {
   "cell_type": "code",
   "execution_count": 98,
   "id": "2b3f9291",
   "metadata": {},
   "outputs": [
    {
     "data": {
      "text/plain": [
       "'Flight from Toronto YYZ on Sunday, July 3, 2022 at 20:20, arriving in Delhi DEL at 23:15 Monday, July 4, 2022. This flight includes a connection in Munich. Segment 1: Flight on Sunday, July 3, 2022, departing from Toronto YYZ at 20:20 and arriving in Munich MUC at 10:10 Monday, July 4, 2022. . Segment 2: Flight on Monday, July 4, 2022, departing from Munich MUC at 12:10 and arriving in Delhi DEL at 23:15. . '"
      ]
     },
     "execution_count": 98,
     "metadata": {},
     "output_type": "execute_result"
    }
   ],
   "source": [
    "details[0].get_attribute('innerHTML')"
   ]
  },
  {
   "cell_type": "code",
   "execution_count": null,
   "id": "5fc38230",
   "metadata": {},
   "outputs": [],
   "source": []
  }
 ],
 "metadata": {
  "kernelspec": {
   "display_name": "Python 3",
   "language": "python",
   "name": "python3"
  },
  "language_info": {
   "codemirror_mode": {
    "name": "ipython",
    "version": 3
   },
   "file_extension": ".py",
   "mimetype": "text/x-python",
   "name": "python",
   "nbconvert_exporter": "python",
   "pygments_lexer": "ipython3",
   "version": "3.8.8"
  }
 },
 "nbformat": 4,
 "nbformat_minor": 5
}
