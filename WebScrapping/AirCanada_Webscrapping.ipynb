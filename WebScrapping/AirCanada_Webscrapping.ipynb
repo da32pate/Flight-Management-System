{
 "cells": [
  {
   "cell_type": "code",
   "execution_count": 94,
   "id": "3aa3d2db",
   "metadata": {},
   "outputs": [],
   "source": [
    "# importing the lib\n",
    "from selenium import webdriver\n",
    "from selenium.webdriver.common.keys import Keys\n",
    "from bs4 import BeautifulSoup\n",
    "import pandas as pd\n",
    "import numpy\n",
    "import time\n",
    "import sys\n",
    "from selenium.webdriver.chrome.service import service\n",
    "from webdriver_manager.chrome import ChromeDriverManager\n",
    "from selenium.webdriver.common.by import By"
   ]
  },
  {
   "cell_type": "code",
   "execution_count": 2,
   "id": "7bda8cbd",
   "metadata": {},
   "outputs": [],
   "source": [
    "# Air canada url\n",
    "#breakin the url\n",
    "\n",
    "url_aircanada = \"https://www.aircanada.com/ca/en/aco/home/app.html#/search?org1=YYZ&dest1=DEL&orgType1=A&destType1=A&departure1=03/07/2022&marketCode=INT&numberOfAdults=1&numberOfYouth=0&numberOfChildren=0&numberOfInfants=0&numberOfInfantsOnSeat=0&tripType=O&isFlexible=false\""
   ]
  },
  {
   "cell_type": "code",
   "execution_count": 4,
   "id": "9d455749",
   "metadata": {},
   "outputs": [
    {
     "name": "stderr",
     "output_type": "stream",
     "text": [
      "\n",
      "\n",
      "====== WebDriver manager ======\n",
      "Current google-chrome version is 98.0.4758\n",
      "Get LATEST chromedriver version for 98.0.4758 google-chrome\n",
      "Driver [C:\\Users\\Haet\\.wdm\\drivers\\chromedriver\\win32\\98.0.4758.80\\chromedriver.exe] found in cache\n",
      "<ipython-input-4-5dc3a82f4ec7>:2: DeprecationWarning: executable_path has been deprecated, please pass in a Service object\n",
      "  driver = webdriver.Chrome(ChromeDriverManager().install())\n"
     ]
    },
    {
     "ename": "NameError",
     "evalue": "name 'sleep' is not defined",
     "output_type": "error",
     "traceback": [
      "\u001b[1;31m---------------------------------------------------------------------------\u001b[0m",
      "\u001b[1;31mNameError\u001b[0m                                 Traceback (most recent call last)",
      "\u001b[1;32m<ipython-input-4-5dc3a82f4ec7>\u001b[0m in \u001b[0;36m<module>\u001b[1;34m\u001b[0m\n\u001b[0;32m      3\u001b[0m \u001b[0mdriver\u001b[0m\u001b[1;33m.\u001b[0m\u001b[0mmaximize_window\u001b[0m\u001b[1;33m(\u001b[0m\u001b[1;33m)\u001b[0m\u001b[1;33m\u001b[0m\u001b[1;33m\u001b[0m\u001b[0m\n\u001b[0;32m      4\u001b[0m \u001b[0mdriver\u001b[0m\u001b[1;33m.\u001b[0m\u001b[0mget\u001b[0m\u001b[1;33m(\u001b[0m\u001b[0murl_aircanada\u001b[0m\u001b[1;33m)\u001b[0m\u001b[1;33m\u001b[0m\u001b[1;33m\u001b[0m\u001b[0m\n\u001b[1;32m----> 5\u001b[1;33m \u001b[0msleep\u001b[0m\u001b[1;33m(\u001b[0m\u001b[1;36m5\u001b[0m\u001b[1;33m)\u001b[0m\u001b[1;33m\u001b[0m\u001b[1;33m\u001b[0m\u001b[0m\n\u001b[0m",
      "\u001b[1;31mNameError\u001b[0m: name 'sleep' is not defined"
     ]
    }
   ],
   "source": [
    "#opening the site using selenium\n",
    "driver = webdriver.Chrome(ChromeDriverManager().install())\n",
    "driver.maximize_window()\n",
    "driver.get(url_aircanada)\n",
    "time.sleep(15)"
   ]
  },
  {
   "cell_type": "code",
   "execution_count": 5,
   "id": "0ec425d2",
   "metadata": {},
   "outputs": [
    {
     "name": "stderr",
     "output_type": "stream",
     "text": [
      "<ipython-input-5-b3d75a44b4f9>:4: DeprecationWarning: find_element_by_* commands are deprecated. Please use find_element() instead\n",
      "  driver.find_element_by_xpath(\"//div[@id='sortByPrice']\").click()\n"
     ]
    }
   ],
   "source": [
    "#clicking the price button and sorting the value by price\n",
    "\n",
    "price_button = \"//div[@id='sortByPrice']\"\n",
    "driver.find_element_by_xpath(\"//div[@id='sortByPrice']\").click()"
   ]
  },
  {
   "cell_type": "code",
   "execution_count": 6,
   "id": "78e7c756",
   "metadata": {},
   "outputs": [
    {
     "name": "stderr",
     "output_type": "stream",
     "text": [
      "<ipython-input-6-d6b40476efea>:3: DeprecationWarning: find_elements_by_* commands are deprecated. Please use find_elements() instead\n",
      "  price_list = driver.find_elements_by_xpath(\"//div[@class='display-on-hover']\")\n"
     ]
    }
   ],
   "source": [
    "#getting the price list\n",
    "\n",
    "price_list = driver.find_elements_by_xpath(\"//div[@class='display-on-hover']\")\n",
    "for i in range(len(price_list)):\n",
    "    price_list[i]=price_list[i].get_attribute('innerHTML')"
   ]
  },
  {
   "cell_type": "code",
   "execution_count": 7,
   "id": "4eb0adf0",
   "metadata": {},
   "outputs": [
    {
     "name": "stdout",
     "output_type": "stream",
     "text": [
      "total price list is  41\n"
     ]
    },
    {
     "data": {
      "text/plain": [
       "['CA $1492 ',\n",
       " 'CA $1857 ',\n",
       " 'CA $5797 ',\n",
       " 'CA $1493 ',\n",
       " 'CA $2408 ',\n",
       " 'CA $5798 ',\n",
       " 'CA $1493 ',\n",
       " 'CA $1858 ',\n",
       " 'CA $5798 ',\n",
       " 'CA $1493 ',\n",
       " 'CA $1858 ',\n",
       " 'CA $5798 ',\n",
       " 'CA $1605 ',\n",
       " 'CA $5773 ',\n",
       " 'CA $1746 ',\n",
       " 'CA $1836 ',\n",
       " 'CA $7226 ',\n",
       " 'CA $1746 ',\n",
       " 'CA $1836 ',\n",
       " 'CA $7226 ',\n",
       " 'CA $1776 ',\n",
       " 'CA $1866 ',\n",
       " 'CA $5751 ',\n",
       " 'CA $1776 ',\n",
       " 'CA $1866 ',\n",
       " 'CA $5751 ',\n",
       " 'CA $1776 ',\n",
       " 'CA $1866 ',\n",
       " 'CA $5751 ',\n",
       " 'CA $1776 ',\n",
       " 'CA $1866 ',\n",
       " 'CA $5751 ',\n",
       " 'CA $2361 ',\n",
       " 'CA $1901 ',\n",
       " 'CA $5785 ',\n",
       " 'CA $2371 ',\n",
       " 'CA $1901 ',\n",
       " 'CA $5785 ',\n",
       " 'CA $2371 ',\n",
       " 'CA $1901 ',\n",
       " 'CA $5785 ']"
      ]
     },
     "execution_count": 7,
     "metadata": {},
     "output_type": "execute_result"
    }
   ],
   "source": [
    "#Displaying the total price list in string\n",
    "print(\"total price list is \",len(price_list))\n",
    "price_list"
   ]
  },
  {
   "cell_type": "code",
   "execution_count": 9,
   "id": "cf7dbc26",
   "metadata": {},
   "outputs": [
    {
     "name": "stderr",
     "output_type": "stream",
     "text": [
      "<ipython-input-9-029229be5897>:13: DeprecationWarning: find_element_by_* commands are deprecated. Please use find_element() instead\n",
      "  if driver.find_element_by_xpath(\"//span[@id='recommendation_ECO_\"+str(values)+\"']\"):\n",
      "<ipython-input-9-029229be5897>:15: DeprecationWarning: find_element_by_* commands are deprecated. Please use find_element() instead\n",
      "  a= driver.find_element_by_xpath(\"//span[@id='recommendation_ECO_\"+str(values)+\"']\").get_attribute(\"innerHTML\")\n",
      "<ipython-input-9-029229be5897>:30: DeprecationWarning: find_element_by_* commands are deprecated. Please use find_element() instead\n",
      "  if driver.find_element_by_xpath(\"//span[@id='recommendation_PREM_\"+str(values)+\"']\"):\n",
      "<ipython-input-9-029229be5897>:32: DeprecationWarning: find_element_by_* commands are deprecated. Please use find_element() instead\n",
      "  b= driver.find_element_by_xpath(\"//span[@id='recommendation_PREM_\"+str(values)+\"']\").get_attribute(\"innerHTML\")\n",
      "<ipython-input-9-029229be5897>:45: DeprecationWarning: find_element_by_* commands are deprecated. Please use find_element() instead\n",
      "  if driver.find_element_by_xpath(\"//span[@id='recommendation_EXEC_\"+str(values)+\"']\"):\n",
      "<ipython-input-9-029229be5897>:47: DeprecationWarning: find_element_by_* commands are deprecated. Please use find_element() instead\n",
      "  c= driver.find_element_by_xpath(\"//span[@id='recommendation_EXEC_\"+str(values)+\"']\").get_attribute(\"innerHTML\")\n"
     ]
    }
   ],
   "source": [
    "economy_list=[]\n",
    "economy_desc=[]\n",
    "premium_list=[]\n",
    "premium_desc=[]\n",
    "executive_list=[]\n",
    "executive_desc=[]\n",
    "economy_price=[]\n",
    "premium_price=[]\n",
    "executive_price=[]\n",
    "count = 0\n",
    "for values in range(0,100):\n",
    "    try:\n",
    "        if driver.find_element_by_xpath(\"//span[@id='recommendation_ECO_\"+str(values)+\"']\"):\n",
    "            economy_list.append(values)\n",
    "            a= driver.find_element_by_xpath(\"//span[@id='recommendation_ECO_\"+str(values)+\"']\").get_attribute(\"innerHTML\")\n",
    "            economy_desc.append(a)\n",
    "            a = price_list[count]\n",
    "#             print(\"eco values\",values)\n",
    "#             print(\"eco count\",count)\n",
    "            economy_price.append(a)\n",
    "            count = count +1\n",
    "            \n",
    "    except:\n",
    "        pass\n",
    "    \n",
    "    \n",
    "    \n",
    "    \n",
    "    try:\n",
    "        if driver.find_element_by_xpath(\"//span[@id='recommendation_PREM_\"+str(values)+\"']\"):\n",
    "            premium_list.append(values)\n",
    "            b= driver.find_element_by_xpath(\"//span[@id='recommendation_PREM_\"+str(values)+\"']\").get_attribute(\"innerHTML\")\n",
    "            premium_desc.append(b)\n",
    "            a = price_list[count]\n",
    "#             print(\"prem values \",values)\n",
    "#             print(\"prem count\",count)\n",
    "            count = count +1\n",
    "            premium_price.append(a)\n",
    "    except:\n",
    "        pass\n",
    "    \n",
    "    \n",
    "    \n",
    "    try:\n",
    "        if driver.find_element_by_xpath(\"//span[@id='recommendation_EXEC_\"+str(values)+\"']\"):\n",
    "            executive_list.append(values)\n",
    "            c= driver.find_element_by_xpath(\"//span[@id='recommendation_EXEC_\"+str(values)+\"']\").get_attribute(\"innerHTML\")\n",
    "            executive_desc.append(c)\n",
    "            a = price_list[count]\n",
    "#             print(\"exe values\",values)\n",
    "#             print(\"exe count\",count)\n",
    "            count = count +1\n",
    "            \n",
    "            executive_price.append(a)\n",
    "    except:\n",
    "        pass\n"
   ]
  },
  {
   "cell_type": "code",
   "execution_count": 13,
   "id": "ed2259d3",
   "metadata": {},
   "outputs": [
    {
     "name": "stderr",
     "output_type": "stream",
     "text": [
      "<ipython-input-13-5e8d145166c9>:1: DeprecationWarning: find_elements_by_* commands are deprecated. Please use find_elements() instead\n",
      "  departure_time = driver.find_elements_by_xpath(\"//div[@class='itinerary-depart-time depart-time']\")\n",
      "<ipython-input-13-5e8d145166c9>:2: DeprecationWarning: find_elements_by_* commands are deprecated. Please use find_elements() instead\n",
      "  arrival_time = driver.find_elements_by_xpath(\"//div[@class='itinerary-arrival-time arrival-time']\")\n"
     ]
    }
   ],
   "source": [
    "departure_time = driver.find_elements_by_xpath(\"//div[@class='itinerary-depart-time depart-time']\")\n",
    "arrival_time = driver.find_elements_by_xpath(\"//div[@class='itinerary-arrival-time arrival-time']\")\n",
    "for i in range(len(departure_time)):\n",
    "    departure_time[i]=departure_time[i].get_attribute('innerHTML')\n",
    "    arrival_time[i] = arrival_time[i].get_attribute('innerHTML')\n",
    "    "
   ]
  },
  {
   "cell_type": "code",
   "execution_count": 17,
   "id": "ecb248be",
   "metadata": {},
   "outputs": [
    {
     "data": {
      "text/plain": [
       "[0, 1, 2, 3, 4, 5, 6, 7, 8, 9, 10, 16, 17, 18]"
      ]
     },
     "execution_count": 17,
     "metadata": {},
     "output_type": "execute_result"
    }
   ],
   "source": [
    "economy_list"
   ]
  },
  {
   "cell_type": "code",
   "execution_count": 58,
   "id": "0683ebb8",
   "metadata": {},
   "outputs": [],
   "source": [
    "final=[]\n",
    "final.extend(economy_list)\n",
    "final.extend(premium_list)\n",
    "final.extend(executive_list)\n",
    "final.sort()\n",
    "final =list(set(final))"
   ]
  },
  {
   "cell_type": "code",
   "execution_count": 89,
   "id": "f3942f2d",
   "metadata": {},
   "outputs": [],
   "source": [
    "no= 0\n",
    "count1= 0;count2=0;count3=0\n",
    "eco_dis=[]\n",
    "pre_dis=[]\n",
    "exe_dis=[]\n",
    "for val in final:\n",
    "    if val in economy_list:\n",
    "        eco_dis.append(economy_price[count1])\n",
    "        count1 =count1 +1\n",
    "    else:\n",
    "        eco_dis.append(None)\n",
    "        \n",
    "        \n",
    "        \n",
    "        \n",
    "    if val in premium_list:\n",
    "        pre_dis.append(premium_price[count2])\n",
    "        count2 =count2 +1\n",
    "    else:\n",
    "        pre_dis.append(None)\n",
    "    \n",
    "    \n",
    "    \n",
    "    \n",
    "    if val in executive_list:\n",
    "        exe_dis.append(executive_price[count3])\n",
    "        count3 =count3 +1\n",
    "    else:\n",
    "        exe_dis.append(None)\n",
    "        \n",
    "        \n",
    "    no = no+1 "
   ]
  },
  {
   "cell_type": "code",
   "execution_count": 92,
   "id": "308f271f",
   "metadata": {},
   "outputs": [
    {
     "name": "stdout",
     "output_type": "stream",
     "text": [
      "<class 'list'> <class 'list'> <class 'list'> 14 14\n"
     ]
    }
   ],
   "source": [
    "print(type(arrival_time),type(departure_time),type(pre_dis),len(eco_dis),len(exe_dis))"
   ]
  },
  {
   "cell_type": "code",
   "execution_count": 96,
   "id": "556369ee",
   "metadata": {},
   "outputs": [],
   "source": [
    "df = pd.DataFrame(list(zip(arrival_time,departure_time,eco_dis,pre_dis,exe_dis)),columns= ['Arrival_Time','Departure_Time','Economy_Class','Premium_Class','Business_Class'])"
   ]
  },
  {
   "cell_type": "code",
   "execution_count": 107,
   "id": "48d94bc0",
   "metadata": {},
   "outputs": [],
   "source": [
    "df[\"To\"]=\"DEL\"\n",
    "df[\"From\"]=\"YYZ\"\n",
    "df  =df[['From','To','Departure_Time','Arrival_Time','Economy_Class','Premium_Class','Business_Class']]"
   ]
  },
  {
   "cell_type": "code",
   "execution_count": 108,
   "id": "e0d210cc",
   "metadata": {},
   "outputs": [
    {
     "data": {
      "text/html": [
       "<div>\n",
       "<style scoped>\n",
       "    .dataframe tbody tr th:only-of-type {\n",
       "        vertical-align: middle;\n",
       "    }\n",
       "\n",
       "    .dataframe tbody tr th {\n",
       "        vertical-align: top;\n",
       "    }\n",
       "\n",
       "    .dataframe thead th {\n",
       "        text-align: right;\n",
       "    }\n",
       "</style>\n",
       "<table border=\"1\" class=\"dataframe\">\n",
       "  <thead>\n",
       "    <tr style=\"text-align: right;\">\n",
       "      <th></th>\n",
       "      <th>From</th>\n",
       "      <th>To</th>\n",
       "      <th>Departure_Time</th>\n",
       "      <th>Arrival_Time</th>\n",
       "      <th>Economy_Class</th>\n",
       "      <th>Premium_Class</th>\n",
       "      <th>Business_Class</th>\n",
       "    </tr>\n",
       "  </thead>\n",
       "  <tbody>\n",
       "    <tr>\n",
       "      <th>0</th>\n",
       "      <td>YYZ</td>\n",
       "      <td>DEL</td>\n",
       "      <td>\\n      21:00\\n</td>\n",
       "      <td>\\n      01:55\\n</td>\n",
       "      <td>CA $1492</td>\n",
       "      <td>CA $1857</td>\n",
       "      <td>CA $5797</td>\n",
       "    </tr>\n",
       "    <tr>\n",
       "      <th>1</th>\n",
       "      <td>YYZ</td>\n",
       "      <td>DEL</td>\n",
       "      <td>\\n      21:35\\n</td>\n",
       "      <td>\\n      00:55\\n</td>\n",
       "      <td>CA $1493</td>\n",
       "      <td>CA $2408</td>\n",
       "      <td>CA $5798</td>\n",
       "    </tr>\n",
       "    <tr>\n",
       "      <th>2</th>\n",
       "      <td>YYZ</td>\n",
       "      <td>DEL</td>\n",
       "      <td>\\n      18:20\\n</td>\n",
       "      <td>\\n      00:55\\n</td>\n",
       "      <td>CA $1493</td>\n",
       "      <td>CA $1858</td>\n",
       "      <td>CA $5798</td>\n",
       "    </tr>\n",
       "    <tr>\n",
       "      <th>3</th>\n",
       "      <td>YYZ</td>\n",
       "      <td>DEL</td>\n",
       "      <td>\\n      16:45\\n</td>\n",
       "      <td>\\n      00:55\\n</td>\n",
       "      <td>CA $1493</td>\n",
       "      <td>CA $1858</td>\n",
       "      <td>CA $5798</td>\n",
       "    </tr>\n",
       "    <tr>\n",
       "      <th>4</th>\n",
       "      <td>YYZ</td>\n",
       "      <td>DEL</td>\n",
       "      <td>\\n      18:20\\n</td>\n",
       "      <td>\\n      23:50\\n</td>\n",
       "      <td>CA $1605</td>\n",
       "      <td>None</td>\n",
       "      <td>CA $5773</td>\n",
       "    </tr>\n",
       "    <tr>\n",
       "      <th>5</th>\n",
       "      <td>YYZ</td>\n",
       "      <td>DEL</td>\n",
       "      <td>\\n      20:20\\n</td>\n",
       "      <td>\\n      23:15\\n</td>\n",
       "      <td>CA $1746</td>\n",
       "      <td>CA $1836</td>\n",
       "      <td>CA $7226</td>\n",
       "    </tr>\n",
       "    <tr>\n",
       "      <th>6</th>\n",
       "      <td>YYZ</td>\n",
       "      <td>DEL</td>\n",
       "      <td>\\n      17:55\\n</td>\n",
       "      <td>\\n      23:15\\n</td>\n",
       "      <td>CA $1746</td>\n",
       "      <td>CA $1836</td>\n",
       "      <td>CA $7226</td>\n",
       "    </tr>\n",
       "    <tr>\n",
       "      <th>7</th>\n",
       "      <td>YYZ</td>\n",
       "      <td>DEL</td>\n",
       "      <td>\\n      22:10\\n</td>\n",
       "      <td>\\n      21:25\\n</td>\n",
       "      <td>CA $1776</td>\n",
       "      <td>CA $1866</td>\n",
       "      <td>CA $5751</td>\n",
       "    </tr>\n",
       "    <tr>\n",
       "      <th>8</th>\n",
       "      <td>YYZ</td>\n",
       "      <td>DEL</td>\n",
       "      <td>\\n      20:30\\n</td>\n",
       "      <td>\\n      02:30\\n</td>\n",
       "      <td>CA $1776</td>\n",
       "      <td>CA $1866</td>\n",
       "      <td>CA $5751</td>\n",
       "    </tr>\n",
       "    <tr>\n",
       "      <th>9</th>\n",
       "      <td>YYZ</td>\n",
       "      <td>DEL</td>\n",
       "      <td>\\n      19:30\\n</td>\n",
       "      <td>\\n      02:30\\n</td>\n",
       "      <td>CA $1776</td>\n",
       "      <td>CA $1866</td>\n",
       "      <td>CA $5751</td>\n",
       "    </tr>\n",
       "    <tr>\n",
       "      <th>10</th>\n",
       "      <td>YYZ</td>\n",
       "      <td>DEL</td>\n",
       "      <td>\\n      18:30\\n</td>\n",
       "      <td>\\n      02:30\\n</td>\n",
       "      <td>CA $1776</td>\n",
       "      <td>CA $1866</td>\n",
       "      <td>CA $5751</td>\n",
       "    </tr>\n",
       "    <tr>\n",
       "      <th>11</th>\n",
       "      <td>YYZ</td>\n",
       "      <td>DEL</td>\n",
       "      <td>\\n      19:40\\n</td>\n",
       "      <td>\\n      21:30\\n</td>\n",
       "      <td>CA $2361</td>\n",
       "      <td>CA $1901</td>\n",
       "      <td>CA $5785</td>\n",
       "    </tr>\n",
       "    <tr>\n",
       "      <th>12</th>\n",
       "      <td>YYZ</td>\n",
       "      <td>DEL</td>\n",
       "      <td>\\n      18:05\\n</td>\n",
       "      <td>\\n      21:30\\n</td>\n",
       "      <td>CA $2371</td>\n",
       "      <td>CA $1901</td>\n",
       "      <td>CA $5785</td>\n",
       "    </tr>\n",
       "    <tr>\n",
       "      <th>13</th>\n",
       "      <td>YYZ</td>\n",
       "      <td>DEL</td>\n",
       "      <td>\\n      15:50\\n</td>\n",
       "      <td>\\n      21:30\\n</td>\n",
       "      <td>CA $2371</td>\n",
       "      <td>CA $1901</td>\n",
       "      <td>CA $5785</td>\n",
       "    </tr>\n",
       "  </tbody>\n",
       "</table>\n",
       "</div>"
      ],
      "text/plain": [
       "   From   To       Departure_Time         Arrival_Time Economy_Class  \\\n",
       "0   YYZ  DEL  \\n      21:00\\n      \\n      01:55\\n         CA $1492    \n",
       "1   YYZ  DEL  \\n      21:35\\n      \\n      00:55\\n         CA $1493    \n",
       "2   YYZ  DEL  \\n      18:20\\n      \\n      00:55\\n         CA $1493    \n",
       "3   YYZ  DEL  \\n      16:45\\n      \\n      00:55\\n         CA $1493    \n",
       "4   YYZ  DEL  \\n      18:20\\n      \\n      23:50\\n         CA $1605    \n",
       "5   YYZ  DEL  \\n      20:20\\n      \\n      23:15\\n         CA $1746    \n",
       "6   YYZ  DEL  \\n      17:55\\n      \\n      23:15\\n         CA $1746    \n",
       "7   YYZ  DEL  \\n      22:10\\n      \\n      21:25\\n         CA $1776    \n",
       "8   YYZ  DEL  \\n      20:30\\n      \\n      02:30\\n         CA $1776    \n",
       "9   YYZ  DEL  \\n      19:30\\n      \\n      02:30\\n         CA $1776    \n",
       "10  YYZ  DEL  \\n      18:30\\n      \\n      02:30\\n         CA $1776    \n",
       "11  YYZ  DEL  \\n      19:40\\n      \\n      21:30\\n         CA $2361    \n",
       "12  YYZ  DEL  \\n      18:05\\n      \\n      21:30\\n         CA $2371    \n",
       "13  YYZ  DEL  \\n      15:50\\n      \\n      21:30\\n         CA $2371    \n",
       "\n",
       "   Premium_Class Business_Class  \n",
       "0      CA $1857       CA $5797   \n",
       "1      CA $2408       CA $5798   \n",
       "2      CA $1858       CA $5798   \n",
       "3      CA $1858       CA $5798   \n",
       "4           None      CA $5773   \n",
       "5      CA $1836       CA $7226   \n",
       "6      CA $1836       CA $7226   \n",
       "7      CA $1866       CA $5751   \n",
       "8      CA $1866       CA $5751   \n",
       "9      CA $1866       CA $5751   \n",
       "10     CA $1866       CA $5751   \n",
       "11     CA $1901       CA $5785   \n",
       "12     CA $1901       CA $5785   \n",
       "13     CA $1901       CA $5785   "
      ]
     },
     "execution_count": 108,
     "metadata": {},
     "output_type": "execute_result"
    }
   ],
   "source": [
    "df"
   ]
  },
  {
   "cell_type": "code",
   "execution_count": 106,
   "id": "1a1baec2",
   "metadata": {},
   "outputs": [
    {
     "data": {
      "text/plain": [
       "['Flight from Toronto YYZ on Sunday, July 3, 2022 at 21:00, arriving in Delhi DEL at 01:55 Tuesday, July 5, 2022. This flight includes a connection in Doha. Segment 1: Flight on Sunday, July 3, 2022, departing from Toronto YYZ at 21:00 and arriving in Doha DOH at 15:50 Monday, July 4, 2022. Wifi available. . Segment 2: Flight on Monday, July 4, 2022, departing from Doha DOH at 19:20 and arriving in Delhi DEL at 01:55 Tuesday, July 5, 2022. . ',\n",
       " 'Flight from Toronto YYZ on Sunday, July 3, 2022 at 21:35, arriving in Delhi DEL at 00:55 Tuesday, July 5, 2022. This flight includes a connection in Frankfurt. Segment 1: Flight on Sunday, July 3, 2022, departing from Toronto YYZ at 21:35 and arriving in Frankfurt FRA at 11:10 Monday, July 4, 2022. Wifi available. . Segment 2: Flight on Monday, July 4, 2022, departing from Frankfurt FRA at 13:40 and arriving in Delhi DEL at 00:55 Tuesday, July 5, 2022. . ',\n",
       " 'Flight from Toronto YYZ on Sunday, July 3, 2022 at 18:20, arriving in Delhi DEL at 00:55 Tuesday, July 5, 2022. This flight includes a connection in Frankfurt. Segment 1: Flight on Sunday, July 3, 2022, departing from Toronto YYZ at 18:20 and arriving in Frankfurt FRA at 07:55 Monday, July 4, 2022. . Segment 2: Flight on Monday, July 4, 2022, departing from Frankfurt FRA at 13:40 and arriving in Delhi DEL at 00:55 Tuesday, July 5, 2022. . ',\n",
       " 'Flight from Toronto YYZ on Sunday, July 3, 2022 at 16:45, arriving in Delhi DEL at 00:55 Tuesday, July 5, 2022. This flight includes a connection in Frankfurt. Segment 1: Flight on Sunday, July 3, 2022, departing from Toronto YYZ at 16:45 and arriving in Frankfurt FRA at 06:20 Monday, July 4, 2022. Wifi available. . Segment 2: Flight on Monday, July 4, 2022, departing from Frankfurt FRA at 13:40 and arriving in Delhi DEL at 00:55 Tuesday, July 5, 2022. . ',\n",
       " 'Flight from Toronto YYZ on Sunday, July 3, 2022 at 18:20, arriving in Delhi DEL at 23:50 Monday, July 4, 2022. This flight includes a connection in Zurich. Segment 1: Flight on Sunday, July 3, 2022, departing from Toronto YYZ at 18:20 and arriving in Zurich ZRH at 08:00 Monday, July 4, 2022. Wifi available. . Segment 2: Flight on Monday, July 4, 2022, departing from Zurich ZRH at 12:35 and arriving in Delhi DEL at 23:50. . ',\n",
       " 'Flight from Toronto YYZ on Sunday, July 3, 2022 at 20:20, arriving in Delhi DEL at 23:15 Monday, July 4, 2022. This flight includes a connection in Munich. Segment 1: Flight on Sunday, July 3, 2022, departing from Toronto YYZ at 20:20 and arriving in Munich MUC at 10:10 Monday, July 4, 2022. . Segment 2: Flight on Monday, July 4, 2022, departing from Munich MUC at 12:10 and arriving in Delhi DEL at 23:15. . ',\n",
       " 'Flight from Toronto YYZ on Sunday, July 3, 2022 at 17:55, arriving in Delhi DEL at 23:15 Monday, July 4, 2022. This flight includes a connection in Munich. Segment 1: Flight on Sunday, July 3, 2022, departing from Toronto YYZ at 17:55 and arriving in Munich MUC at 07:45 Monday, July 4, 2022. Wifi available. . Segment 2: Flight on Monday, July 4, 2022, departing from Munich MUC at 12:10 and arriving in Delhi DEL at 23:15. . ',\n",
       " 'Direct flight on Sunday, July 3, 2022, departing from Toronto YYZ at 22:10 and arriving in Delhi DEL at 21:25 Monday, July 4, 2022. Wifi available. . ',\n",
       " 'Flight from Toronto YYZ on Sunday, July 3, 2022 at 20:30, arriving in Delhi DEL at 02:30 Tuesday, July 5, 2022. This flight includes a connection in Vancouver. Segment 1: Flight on Sunday, July 3, 2022, departing from Toronto YYZ at 20:30 and arriving in Vancouver YVR at 22:29. Wifi available. . Segment 2: Flight on Sunday, July 3, 2022, departing from Vancouver YVR at 23:55 and arriving in Delhi DEL at 02:30 Tuesday, July 5, 2022. Wifi available. . ',\n",
       " 'Flight from Toronto YYZ on Sunday, July 3, 2022 at 19:30, arriving in Delhi DEL at 02:30 Tuesday, July 5, 2022. This flight includes a connection in Vancouver. Segment 1: Flight on Sunday, July 3, 2022, departing from Toronto YYZ at 19:30 and arriving in Vancouver YVR at 21:29. Wifi available. . Segment 2: Flight on Sunday, July 3, 2022, departing from Vancouver YVR at 23:55 and arriving in Delhi DEL at 02:30 Tuesday, July 5, 2022. Wifi available. . ',\n",
       " 'Flight from Toronto YYZ on Sunday, July 3, 2022 at 18:30, arriving in Delhi DEL at 02:30 Tuesday, July 5, 2022. This flight includes a connection in Vancouver. Segment 1: Flight on Sunday, July 3, 2022, departing from Toronto YYZ at 18:30 and arriving in Vancouver YVR at 20:19. Wifi available. . Segment 2: Flight on Sunday, July 3, 2022, departing from Vancouver YVR at 23:55 and arriving in Delhi DEL at 02:30 Tuesday, July 5, 2022. Wifi available. . ',\n",
       " 'Flight from Toronto YYZ on Sunday, July 3, 2022 at 19:40, arriving in Delhi DEL at 21:30 Monday, July 4, 2022. This flight includes a connection in New York. Segment 1: Flight on Sunday, July 3, 2022, departing from Toronto YYZ at 19:40 and arriving in New York EWR at 21:12. . Segment 2: Flight on Sunday, July 3, 2022, departing from New York EWR at 22:10 and arriving in Delhi DEL at 21:30 Monday, July 4, 2022. Wifi available. . ',\n",
       " 'Flight from Toronto YYZ on Sunday, July 3, 2022 at 18:05, arriving in Delhi DEL at 21:30 Monday, July 4, 2022. This flight includes a connection in New York. Segment 1: Flight on Sunday, July 3, 2022, departing from Toronto YYZ at 18:05 and arriving in New York EWR at 19:38. Wifi available. . Segment 2: Flight on Sunday, July 3, 2022, departing from New York EWR at 22:10 and arriving in Delhi DEL at 21:30 Monday, July 4, 2022. Wifi available. . ',\n",
       " 'Flight from Toronto YYZ on Sunday, July 3, 2022 at 15:50, arriving in Delhi DEL at 21:30 Monday, July 4, 2022. This flight includes a connection in New York. Segment 1: Flight on Sunday, July 3, 2022, departing from Toronto YYZ at 15:50 and arriving in New York EWR at 17:23. Wifi available. . Segment 2: Flight on Sunday, July 3, 2022, departing from New York EWR at 22:10 and arriving in Delhi DEL at 21:30 Monday, July 4, 2022. Wifi available. . ']"
      ]
     },
     "execution_count": 106,
     "metadata": {},
     "output_type": "execute_result"
    }
   ],
   "source": [
    "economy_desc"
   ]
  },
  {
   "cell_type": "code",
   "execution_count": null,
   "id": "1d77a6c0",
   "metadata": {},
   "outputs": [],
   "source": []
  }
 ],
 "metadata": {
  "kernelspec": {
   "display_name": "Python 3",
   "language": "python",
   "name": "python3"
  },
  "language_info": {
   "codemirror_mode": {
    "name": "ipython",
    "version": 3
   },
   "file_extension": ".py",
   "mimetype": "text/x-python",
   "name": "python",
   "nbconvert_exporter": "python",
   "pygments_lexer": "ipython3",
   "version": "3.8.8"
  }
 },
 "nbformat": 4,
 "nbformat_minor": 5
}
