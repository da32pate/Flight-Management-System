{
 "cells": [
  {
   "cell_type": "code",
   "execution_count": 148,
   "id": "ca994f5b",
   "metadata": {},
   "outputs": [],
   "source": [
    "# importing the lib\n",
    "from selenium import webdriver\n",
    "from selenium.webdriver.common.keys import Keys\n",
    "from bs4 import BeautifulSoup\n",
    "import pandas as pd\n",
    "import numpy\n",
    "import time\n",
    "import sys\n",
    "from selenium.webdriver.chrome.service import service\n",
    "from webdriver_manager.chrome import ChromeDriverManager\n",
    "from selenium.webdriver.common.by import By\n",
    "import re\n",
    "import numpy as np"
   ]
  },
  {
   "cell_type": "code",
   "execution_count": null,
   "id": "617606ac",
   "metadata": {},
   "outputs": [],
   "source": []
  },
  {
   "cell_type": "code",
   "execution_count": 2,
   "id": "ce57382c",
   "metadata": {},
   "outputs": [
    {
     "name": "stderr",
     "output_type": "stream",
     "text": [
      "\n",
      "\n",
      "====== WebDriver manager ======\n",
      "Current google-chrome version is 99.0.4844\n",
      "Get LATEST chromedriver version for 99.0.4844 google-chrome\n",
      "Driver [C:\\Users\\Haet\\.wdm\\drivers\\chromedriver\\win32\\99.0.4844.51\\chromedriver.exe] found in cache\n",
      "<ipython-input-2-2620ec44e1ce>:6: DeprecationWarning: executable_path has been deprecated, please pass in a Service object\n",
      "  driver = webdriver.Chrome(ChromeDriverManager().install())\n"
     ]
    }
   ],
   "source": [
    "# Opening chrome and opening the site\n",
    "\n",
    "url=\"https://www.ca.kayak.com/flights/YYZ-AMD/2022-05-30?sort=bestflight_a\"\n",
    "\n",
    "\n",
    "driver = webdriver.Chrome(ChromeDriverManager().install())\n",
    "driver.maximize_window()\n",
    "driver.get(url)\n",
    "time.sleep(25)"
   ]
  },
  {
   "cell_type": "code",
   "execution_count": 3,
   "id": "e2ef9006",
   "metadata": {},
   "outputs": [],
   "source": [
    "def click_more():\n",
    "    \n",
    "    for val in range(0,50):\n",
    "        try:\n",
    "            driver.find_element_by_xpath(\"//a[@class='moreButton']\").click()\n",
    "            time.sleep(5)\n",
    "            val = val +1\n",
    "\n",
    "        except:\n",
    "            pass"
   ]
  },
  {
   "cell_type": "code",
   "execution_count": 4,
   "id": "bf0c509d",
   "metadata": {},
   "outputs": [
    {
     "name": "stderr",
     "output_type": "stream",
     "text": [
      "<ipython-input-3-088966e7e9cf>:5: DeprecationWarning: find_element_by_* commands are deprecated. Please use find_element() instead\n",
      "  driver.find_element_by_xpath(\"//a[@class='moreButton']\").click()\n"
     ]
    }
   ],
   "source": [
    "click_more()"
   ]
  },
  {
   "cell_type": "code",
   "execution_count": 170,
   "id": "7f95e5fd",
   "metadata": {},
   "outputs": [
    {
     "name": "stderr",
     "output_type": "stream",
     "text": [
      "<ipython-input-170-51f023c65a16>:3: DeprecationWarning: find_elements_by_* commands are deprecated. Please use find_elements() instead\n",
      "  departure_time= driver.find_elements_by_xpath(\"//span[@class='depart-time base-time']\")\n",
      "<ipython-input-170-51f023c65a16>:6: DeprecationWarning: find_elements_by_* commands are deprecated. Please use find_elements() instead\n",
      "  arrival_time= driver.find_elements_by_xpath(\"//span[@class='arrival-time base-time']\")\n",
      "<ipython-input-170-51f023c65a16>:9: DeprecationWarning: find_elements_by_* commands are deprecated. Please use find_elements() instead\n",
      "  duration  = driver.find_elements_by_xpath(\"//div[@class='section duration allow-multi-modal-icons']//div[@class='top']\")\n",
      "<ipython-input-170-51f023c65a16>:12: DeprecationWarning: find_elements_by_* commands are deprecated. Please use find_elements() instead\n",
      "  no_stop  = driver.find_elements_by_class_name(\"stops-text\")\n",
      "<ipython-input-170-51f023c65a16>:15: DeprecationWarning: find_elements_by_* commands are deprecated. Please use find_elements() instead\n",
      "  price = driver.find_elements_by_xpath(\"//div[@class = 'booking']\")\n"
     ]
    }
   ],
   "source": [
    "# depart-time base-time\n",
    "departure_time=[]\n",
    "departure_time= driver.find_elements_by_xpath(\"//span[@class='depart-time base-time']\")\n",
    "\n",
    "arrival_time=[]\n",
    "arrival_time= driver.find_elements_by_xpath(\"//span[@class='arrival-time base-time']\")\n",
    "\n",
    "duration =[]\n",
    "duration  = driver.find_elements_by_xpath(\"//div[@class='section duration allow-multi-modal-icons']//div[@class='top']\")\n",
    "\n",
    "no_stop = []\n",
    "no_stop  = driver.find_elements_by_class_name(\"stops-text\")\n",
    "\n",
    "price =[]\n",
    "price = driver.find_elements_by_xpath(\"//div[@class = 'booking']\")\n",
    "\n",
    "\n",
    "\n",
    "# departure_time = driver.find_elements_by_xpath(\"//div[@class='itinerary-depart-time depart-time']\")\n",
    "\n",
    "price_list=[]\n",
    "for i in range(len(departure_time)):\n",
    "        departure_time[i]= departure_time[i].get_attribute('innerHTML')\n",
    "        arrival_time[i] = arrival_time[i].get_attribute('innerHTML')\n",
    "        duration[i] = duration[i].get_attribute('innerHTML')\n",
    "        no_stop[i] = no_stop[i].get_attribute('innerHTML')\n",
    "        price[i] = price[i].get_attribute('innerHTML')\n",
    "        b = re.findall(\"nbsp\\;((\\d\\d\\d)|(\\d.\\d\\d\\d)|(\\d\\d.\\d\\d\\d))\",price[i])[0][0]\n",
    "#         b = b[0][0]\n",
    "        price_list.append(b)"
   ]
  },
  {
   "cell_type": "code",
   "execution_count": 171,
   "id": "49347f22",
   "metadata": {},
   "outputs": [
    {
     "data": {
      "text/plain": [
       "list"
      ]
     },
     "execution_count": 171,
     "metadata": {},
     "output_type": "execute_result"
    }
   ],
   "source": [
    "type(arrival_time)\n"
   ]
  },
  {
   "cell_type": "code",
   "execution_count": 172,
   "id": "6edba72c",
   "metadata": {},
   "outputs": [],
   "source": [
    "# price_list=[]\n",
    "# for i in range(len(price)):\n",
    "#     b = re.findall(\"nbsp\\;((\\d\\d\\d)|(\\d.\\d\\d\\d)|(\\d\\d.\\d\\d\\d))\",price[i])\n",
    "#     b = b[0][0]\n",
    "#     price_list.append(b)\n",
    "    "
   ]
  },
  {
   "cell_type": "code",
   "execution_count": 173,
   "id": "786712b6",
   "metadata": {},
   "outputs": [
    {
     "data": {
      "text/plain": [
       "['9:40 p.m.',\n",
       " '3:05 a.m.',\n",
       " '4:25 a.m.',\n",
       " '4:25 a.m.',\n",
       " '4:25 a.m.',\n",
       " '3:05 a.m.',\n",
       " '6:20 p.m.',\n",
       " '8:05 a.m.',\n",
       " '6:55 p.m.',\n",
       " '7:55 p.m.',\n",
       " '10:20 a.m.',\n",
       " '8:05 a.m.',\n",
       " '8:05 a.m.',\n",
       " '8:05 a.m.',\n",
       " '10:20 a.m.',\n",
       " '8:35 a.m.',\n",
       " '11:00 p.m.',\n",
       " '8:05 a.m.',\n",
       " '2:15 a.m.',\n",
       " '10:20 a.m.',\n",
       " '10:20 a.m.',\n",
       " '8:05 a.m.',\n",
       " '3:05 a.m.',\n",
       " '2:15 a.m.',\n",
       " '2:15 a.m.',\n",
       " '3:05 a.m.',\n",
       " '2:15 a.m.',\n",
       " '10:20 a.m.',\n",
       " '2:15 a.m.',\n",
       " '2:15 a.m.',\n",
       " '10:20 a.m.',\n",
       " '8:05 a.m.',\n",
       " '10:20 a.m.',\n",
       " '7:25 a.m.',\n",
       " '7:25 a.m.',\n",
       " '3:05 a.m.',\n",
       " '10:20 a.m.',\n",
       " '2:15 a.m.',\n",
       " '8:05 p.m.',\n",
       " '2:15 a.m.',\n",
       " '2:15 a.m.',\n",
       " '2:15 a.m.',\n",
       " '2:15 a.m.',\n",
       " '2:15 a.m.',\n",
       " '8:05 a.m.',\n",
       " '10:20 a.m.',\n",
       " '3:05 a.m.',\n",
       " '4:25 a.m.']"
      ]
     },
     "execution_count": 173,
     "metadata": {},
     "output_type": "execute_result"
    }
   ],
   "source": [
    "arrival_time"
   ]
  },
  {
   "cell_type": "code",
   "execution_count": 210,
   "id": "878e02b2",
   "metadata": {},
   "outputs": [
    {
     "data": {
      "text/html": [
       "<div>\n",
       "<style scoped>\n",
       "    .dataframe tbody tr th:only-of-type {\n",
       "        vertical-align: middle;\n",
       "    }\n",
       "\n",
       "    .dataframe tbody tr th {\n",
       "        vertical-align: top;\n",
       "    }\n",
       "\n",
       "    .dataframe thead th {\n",
       "        text-align: right;\n",
       "    }\n",
       "</style>\n",
       "<table border=\"1\" class=\"dataframe\">\n",
       "  <thead>\n",
       "    <tr style=\"text-align: right;\">\n",
       "      <th></th>\n",
       "      <th>0</th>\n",
       "    </tr>\n",
       "  </thead>\n",
       "  <tbody>\n",
       "    <tr>\n",
       "      <th>count</th>\n",
       "      <td>48</td>\n",
       "    </tr>\n",
       "    <tr>\n",
       "      <th>unique</th>\n",
       "      <td>25</td>\n",
       "    </tr>\n",
       "    <tr>\n",
       "      <th>top</th>\n",
       "      <td>2:30 p.m.</td>\n",
       "    </tr>\n",
       "    <tr>\n",
       "      <th>freq</th>\n",
       "      <td>7</td>\n",
       "    </tr>\n",
       "  </tbody>\n",
       "</table>\n",
       "</div>"
      ],
      "text/plain": [
       "                0\n",
       "count          48\n",
       "unique         25\n",
       "top     2:30 p.m.\n",
       "freq            7"
      ]
     },
     "execution_count": 210,
     "metadata": {},
     "output_type": "execute_result"
    }
   ],
   "source": [
    "# Creating data frames\n",
    "departure = len(departure_time)*[\"YYZ\"]\n",
    "arrival = len(departure_time)*[\"AMD\"]\n",
    "a = pd.DataFrame(departure_time,departure)\n",
    "a.describe()"
   ]
  },
  {
   "cell_type": "code",
   "execution_count": 168,
   "id": "3b42cbf2",
   "metadata": {},
   "outputs": [
    {
     "data": {
      "text/plain": [
       "array(['1,001', '1,138', '1,384', '1,369', '1,602', '1,611', '1,192',\n",
       "       '1,494', '1,197', '1,187', '1,494', '1,128', '1,241', '1,619',\n",
       "       '1,128', '1,205', '1,125', '1,619', '1,980', '1,531', '1,619',\n",
       "       '1,619', '1,544', '2,111', '1,980', '1,544', '2,111', '1,619',\n",
       "       '2,051', '2,051', '1,471', '1,315', '1,471', '1,128', '1,241',\n",
       "       '2,223', '1,315', '2,422', '1,353', '2,854', '2,854', '2,854',\n",
       "       '2,854', '2,856', '3,176', '3,176', '8,736', '18,763'],\n",
       "      dtype='<U10')"
      ]
     },
     "execution_count": 168,
     "metadata": {},
     "output_type": "execute_result"
    }
   ],
   "source": [
    "np.array(price_list,dtype='<U10')"
   ]
  },
  {
   "cell_type": "code",
   "execution_count": 195,
   "id": "5962598f",
   "metadata": {},
   "outputs": [
    {
     "data": {
      "text/plain": [
       "array(['1,001', '1,138', '1,384', '1,369', '1,602', '1,611', '1,192',\n",
       "       '1,494', '1,197', '1,187', '1,494', '1,128', '1,241', '1,619',\n",
       "       '1,128', '1,205', '1,125', '1,619', '1,980', '1,531', '1,619',\n",
       "       '1,619', '1,544', '2,111', '1,980', '1,544', '2,111', '1,619',\n",
       "       '2,051', '2,051', '1,471', '1,315', '1,471', '1,128', '1,241',\n",
       "       '2,223', '1,315', '2,422', '1,353', '2,854', '2,854', '2,854',\n",
       "       '2,854', '2,856', '3,176', '3,176', '8,736', '18,763'], dtype='<U6')"
      ]
     },
     "execution_count": 195,
     "metadata": {},
     "output_type": "execute_result"
    }
   ],
   "source": [
    "np.reshape(arrival_time,len(departure_time))\n",
    "np.reshape(departure_time,len(departure_time))\n",
    "np.reshape(price_list,len(departure_time))\n",
    "# np.reshape(departure_time)"
   ]
  },
  {
   "cell_type": "code",
   "execution_count": null,
   "id": "ad0e58b2",
   "metadata": {},
   "outputs": [],
   "source": []
  }
 ],
 "metadata": {
  "kernelspec": {
   "display_name": "Python 3",
   "language": "python",
   "name": "python3"
  },
  "language_info": {
   "codemirror_mode": {
    "name": "ipython",
    "version": 3
   },
   "file_extension": ".py",
   "mimetype": "text/x-python",
   "name": "python",
   "nbconvert_exporter": "python",
   "pygments_lexer": "ipython3",
   "version": "3.8.8"
  }
 },
 "nbformat": 4,
 "nbformat_minor": 5
}
