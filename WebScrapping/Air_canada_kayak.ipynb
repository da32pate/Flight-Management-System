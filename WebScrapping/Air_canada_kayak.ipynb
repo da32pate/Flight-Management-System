{
 "cells": [
  {
   "cell_type": "code",
   "execution_count": 29,
   "id": "ca994f5b",
   "metadata": {},
   "outputs": [],
   "source": [
    "# importing the lib\n",
    "from selenium import webdriver\n",
    "from selenium.webdriver.common.keys import Keys\n",
    "from bs4 import BeautifulSoup\n",
    "import pandas as pd\n",
    "import numpy\n",
    "import time\n",
    "import sys\n",
    "from selenium.webdriver.chrome.service import service\n",
    "from webdriver_manager.chrome import ChromeDriverManager\n",
    "from selenium.webdriver.common.by import By\n",
    "import re\n",
    "import numpy as np"
   ]
  },
  {
   "cell_type": "code",
   "execution_count": null,
   "id": "617606ac",
   "metadata": {},
   "outputs": [],
   "source": []
  },
  {
   "cell_type": "code",
   "execution_count": 30,
   "id": "ce57382c",
   "metadata": {},
   "outputs": [],
   "source": [
    "# Opening chrome and opening the site\n",
    "doj='2022-05-30'\n",
    "source_airport = 'YYZ'\n",
    "destination_airport = 'AMD'\n",
    "\n",
    "\n"
   ]
  },
  {
   "cell_type": "code",
   "execution_count": 33,
   "id": "e76e550a",
   "metadata": {},
   "outputs": [],
   "source": [
    "\n",
    "def kayak(doj,souce_airport,destination_airport):\n",
    "    url=\"https://www.ca.kayak.com/flights/\" +str(source_airport) +\"-\" +str(destination_airport)+ \"/\"+str(doj)+ \"?sort=bestflight_a\"\n",
    "    driver = webdriver.Chrome(ChromeDriverManager().install())\n",
    "    driver.maximize_window()\n",
    "    driver.get(url)\n",
    "    time.sleep(25)\n",
    "    def click_more():\n",
    "    \n",
    "        for val in range(0,50):\n",
    "            try:\n",
    "                driver.find_element_by_xpath(\"//a[@class='moreButton']\").click()\n",
    "                time.sleep(5)\n",
    "                val = val +1\n",
    "\n",
    "            except:\n",
    "                pass\n",
    "    click_more()\n",
    "    \n",
    "    # depart-time base-time\n",
    "    departure_time=[]\n",
    "    departure_time= driver.find_elements_by_xpath(\"//span[@class='depart-time base-time']\")\n",
    "\n",
    "    arrival_time=[]\n",
    "    arrival_time= driver.find_elements_by_xpath(\"//span[@class='arrival-time base-time']\")\n",
    "\n",
    "    duration =[]\n",
    "    duration  = driver.find_elements_by_xpath(\"//div[@class='section duration allow-multi-modal-icons']//div[@class='top']\")\n",
    "\n",
    "    no_stop = []\n",
    "    no_stop  = driver.find_elements_by_class_name(\"stops-text\")\n",
    "\n",
    "    price =[]\n",
    "    price = driver.find_elements_by_xpath(\"//div[@class = 'booking']\")\n",
    "\n",
    "    airlines = []\n",
    "    airlines = driver.find_elements_by_xpath(\"//span[@class = 'codeshares-airline-names']\")\n",
    "\n",
    "    # departure_time = driver.find_elements_by_xpath(\"//div[@class='itinerary-depart-time depart-time']\")\n",
    "\n",
    "    price_list=[]\n",
    "    for i in range(len(departure_time)):\n",
    "            departure_time[i]= departure_time[i].get_attribute('innerHTML')\n",
    "            arrival_time[i] = arrival_time[i].get_attribute('innerHTML')\n",
    "            duration[i] = duration[i].get_attribute('innerHTML')\n",
    "            no_stop[i] = no_stop[i].get_attribute('innerHTML')\n",
    "            price[i] = price[i].get_attribute('innerHTML')\n",
    "            airlines[i] = airlines[i].get_attribute('innerHTML')\n",
    "            b = re.findall(\"nbsp\\;((\\d\\d\\d)|(\\d.\\d\\d\\d)|(\\d\\d.\\d\\d\\d))\",price[i])[0][0]\n",
    "            price_list.append(b)\n",
    "    \n",
    "    # Creating data frames\n",
    "    departure = len(departure_time)*[str(source_airport)]\n",
    "    arrival = len(departure_time)*[str(destination_airport)]\n",
    "    # a = pd.DataFrame(departure_time,arrival_time,price_list)\n",
    "    doj1 = len(departure_time)*[str()]\n",
    "    df  = pd.DataFrame(doj1,columns=[\"Date of journey\"])\n",
    "    df[\"Source\"] = departure    \n",
    "    df[\"Destination\"] = arrival\n",
    "    df[\"Departure_time\"] = departure_time\n",
    "    df[\"Arrival_time\"] = arrival_time\n",
    "    df[\"Duration\"] = duration\n",
    "    df[\"Stops\"] = no_stop\n",
    "    df[\"CAD $\"]= price_list\n",
    "    df[\"Airlines\"] = airlines\n",
    "    df[\"Stops\"]=df[\"Stops\"].str.replace(\"\\n\",\"\")\n",
    "    df[\"CAD $\"]=df[\"CAD $\"].str.replace(\",\",\"\")\n",
    "    df[\"CAD $\"] = pd.to_numeric(df['CAD $'])\n",
    "   \n",
    "    df[\"Stops\"]=df[\"Stops\"].str.replace(\"stops\",\"\")\n",
    "    df[\"Stops\"]=df[\"Stops\"].str.replace(\"stop\",\"\")\n",
    "    df[\"Duration\"]=df[\"Duration\"].str.replace(\"\\n\",\"\")\n",
    "    df = df.sort_values(by='CAD $')\n",
    "    return df\n",
    "    \n",
    "    "
   ]
  },
  {
   "cell_type": "code",
   "execution_count": 34,
   "id": "4fee34dc",
   "metadata": {
    "scrolled": false
   },
   "outputs": [
    {
     "name": "stderr",
     "output_type": "stream",
     "text": [
      "\n",
      "\n",
      "====== WebDriver manager ======\n",
      "Current google-chrome version is 99.0.4844\n",
      "Get LATEST chromedriver version for 99.0.4844 google-chrome\n",
      "Driver [C:\\Users\\dhair\\.wdm\\drivers\\chromedriver\\win32\\99.0.4844.51\\chromedriver.exe] found in cache\n",
      "<ipython-input-33-b45ef09500df>:3: DeprecationWarning: executable_path has been deprecated, please pass in a Service object\n",
      "  driver = webdriver.Chrome(ChromeDriverManager().install())\n",
      "<ipython-input-33-b45ef09500df>:11: DeprecationWarning: find_element_by_* commands are deprecated. Please use find_element() instead\n",
      "  driver.find_element_by_xpath(\"//a[@class='moreButton']\").click()\n",
      "<ipython-input-33-b45ef09500df>:21: DeprecationWarning: find_elements_by_* commands are deprecated. Please use find_elements() instead\n",
      "  departure_time= driver.find_elements_by_xpath(\"//span[@class='depart-time base-time']\")\n",
      "<ipython-input-33-b45ef09500df>:24: DeprecationWarning: find_elements_by_* commands are deprecated. Please use find_elements() instead\n",
      "  arrival_time= driver.find_elements_by_xpath(\"//span[@class='arrival-time base-time']\")\n",
      "<ipython-input-33-b45ef09500df>:27: DeprecationWarning: find_elements_by_* commands are deprecated. Please use find_elements() instead\n",
      "  duration  = driver.find_elements_by_xpath(\"//div[@class='section duration allow-multi-modal-icons']//div[@class='top']\")\n",
      "<ipython-input-33-b45ef09500df>:30: DeprecationWarning: find_elements_by_* commands are deprecated. Please use find_elements() instead\n",
      "  no_stop  = driver.find_elements_by_class_name(\"stops-text\")\n",
      "<ipython-input-33-b45ef09500df>:33: DeprecationWarning: find_elements_by_* commands are deprecated. Please use find_elements() instead\n",
      "  price = driver.find_elements_by_xpath(\"//div[@class = 'booking']\")\n",
      "<ipython-input-33-b45ef09500df>:36: DeprecationWarning: find_elements_by_* commands are deprecated. Please use find_elements() instead\n",
      "  airlines = driver.find_elements_by_xpath(\"//span[@class = 'codeshares-airline-names']\")\n"
     ]
    },
    {
     "ename": "ValueError",
     "evalue": "DataFrame constructor not properly called!",
     "output_type": "error",
     "traceback": [
      "\u001b[1;31m---------------------------------------------------------------------------\u001b[0m",
      "\u001b[1;31mValueError\u001b[0m                                Traceback (most recent call last)",
      "\u001b[1;32m<ipython-input-34-b066415005dc>\u001b[0m in \u001b[0;36m<module>\u001b[1;34m\u001b[0m\n\u001b[1;32m----> 1\u001b[1;33m \u001b[0mdf\u001b[0m \u001b[1;33m=\u001b[0m\u001b[0mkayak\u001b[0m\u001b[1;33m(\u001b[0m\u001b[0mdoj\u001b[0m\u001b[1;33m,\u001b[0m\u001b[0msource_airport\u001b[0m\u001b[1;33m,\u001b[0m\u001b[0mdestination_airport\u001b[0m\u001b[1;33m)\u001b[0m\u001b[1;33m\u001b[0m\u001b[1;33m\u001b[0m\u001b[0m\n\u001b[0m",
      "\u001b[1;32m<ipython-input-33-b45ef09500df>\u001b[0m in \u001b[0;36mkayak\u001b[1;34m(doj, souce_airport, destination_airport)\u001b[0m\n\u001b[0;32m     53\u001b[0m     \u001b[0marrival\u001b[0m \u001b[1;33m=\u001b[0m \u001b[0mlen\u001b[0m\u001b[1;33m(\u001b[0m\u001b[0mdeparture_time\u001b[0m\u001b[1;33m)\u001b[0m\u001b[1;33m*\u001b[0m\u001b[1;33m[\u001b[0m\u001b[0mstr\u001b[0m\u001b[1;33m(\u001b[0m\u001b[0mdestination_airport\u001b[0m\u001b[1;33m)\u001b[0m\u001b[1;33m]\u001b[0m\u001b[1;33m\u001b[0m\u001b[1;33m\u001b[0m\u001b[0m\n\u001b[0;32m     54\u001b[0m     \u001b[1;31m# a = pd.DataFrame(departure_time,arrival_time,price_list)\u001b[0m\u001b[1;33m\u001b[0m\u001b[1;33m\u001b[0m\u001b[1;33m\u001b[0m\u001b[0m\n\u001b[1;32m---> 55\u001b[1;33m     \u001b[0mdf\u001b[0m  \u001b[1;33m=\u001b[0m \u001b[0mpd\u001b[0m\u001b[1;33m.\u001b[0m\u001b[0mDataFrame\u001b[0m\u001b[1;33m(\u001b[0m\u001b[0mdoj\u001b[0m\u001b[1;33m,\u001b[0m\u001b[0mcolumns\u001b[0m\u001b[1;33m=\u001b[0m\u001b[1;33m[\u001b[0m\u001b[1;34m\"Date of journey\"\u001b[0m\u001b[1;33m]\u001b[0m\u001b[1;33m)\u001b[0m\u001b[1;33m\u001b[0m\u001b[1;33m\u001b[0m\u001b[0m\n\u001b[0m\u001b[0;32m     56\u001b[0m     \u001b[0mdf\u001b[0m\u001b[1;33m[\u001b[0m\u001b[1;34m\"Source\"\u001b[0m\u001b[1;33m]\u001b[0m \u001b[1;33m=\u001b[0m \u001b[0mdeparture\u001b[0m\u001b[1;33m\u001b[0m\u001b[1;33m\u001b[0m\u001b[0m\n\u001b[0;32m     57\u001b[0m     \u001b[0mdf\u001b[0m\u001b[1;33m[\u001b[0m\u001b[1;34m\"Destination\"\u001b[0m\u001b[1;33m]\u001b[0m \u001b[1;33m=\u001b[0m \u001b[0marrival\u001b[0m\u001b[1;33m\u001b[0m\u001b[1;33m\u001b[0m\u001b[0m\n",
      "\u001b[1;32m~\\anaconda3\\lib\\site-packages\\pandas\\core\\frame.py\u001b[0m in \u001b[0;36m__init__\u001b[1;34m(self, data, index, columns, dtype, copy)\u001b[0m\n\u001b[0;32m    588\u001b[0m         \u001b[1;32melse\u001b[0m\u001b[1;33m:\u001b[0m\u001b[1;33m\u001b[0m\u001b[1;33m\u001b[0m\u001b[0m\n\u001b[0;32m    589\u001b[0m             \u001b[1;32mif\u001b[0m \u001b[0mindex\u001b[0m \u001b[1;32mis\u001b[0m \u001b[1;32mNone\u001b[0m \u001b[1;32mor\u001b[0m \u001b[0mcolumns\u001b[0m \u001b[1;32mis\u001b[0m \u001b[1;32mNone\u001b[0m\u001b[1;33m:\u001b[0m\u001b[1;33m\u001b[0m\u001b[1;33m\u001b[0m\u001b[0m\n\u001b[1;32m--> 590\u001b[1;33m                 \u001b[1;32mraise\u001b[0m \u001b[0mValueError\u001b[0m\u001b[1;33m(\u001b[0m\u001b[1;34m\"DataFrame constructor not properly called!\"\u001b[0m\u001b[1;33m)\u001b[0m\u001b[1;33m\u001b[0m\u001b[1;33m\u001b[0m\u001b[0m\n\u001b[0m\u001b[0;32m    591\u001b[0m \u001b[1;33m\u001b[0m\u001b[0m\n\u001b[0;32m    592\u001b[0m             \u001b[1;32mif\u001b[0m \u001b[1;32mnot\u001b[0m \u001b[0mdtype\u001b[0m\u001b[1;33m:\u001b[0m\u001b[1;33m\u001b[0m\u001b[1;33m\u001b[0m\u001b[0m\n",
      "\u001b[1;31mValueError\u001b[0m: DataFrame constructor not properly called!"
     ]
    }
   ],
   "source": [
    "df =kayak(doj,source_airport,destination_airport)"
   ]
  },
  {
   "cell_type": "code",
   "execution_count": null,
   "id": "55f3fe96",
   "metadata": {},
   "outputs": [],
   "source": [
    "df"
   ]
  },
  {
   "cell_type": "code",
   "execution_count": null,
   "id": "999c50b1",
   "metadata": {},
   "outputs": [],
   "source": []
  },
  {
   "cell_type": "code",
   "execution_count": null,
   "id": "bf114fce",
   "metadata": {},
   "outputs": [],
   "source": []
  },
  {
   "cell_type": "code",
   "execution_count": null,
   "id": "20ff27e1",
   "metadata": {},
   "outputs": [],
   "source": []
  }
 ],
 "metadata": {
  "kernelspec": {
   "display_name": "Python 3",
   "language": "python",
   "name": "python3"
  },
  "language_info": {
   "codemirror_mode": {
    "name": "ipython",
    "version": 3
   },
   "file_extension": ".py",
   "mimetype": "text/x-python",
   "name": "python",
   "nbconvert_exporter": "python",
   "pygments_lexer": "ipython3",
   "version": "3.8.8"
  }
 },
 "nbformat": 4,
 "nbformat_minor": 5
}
