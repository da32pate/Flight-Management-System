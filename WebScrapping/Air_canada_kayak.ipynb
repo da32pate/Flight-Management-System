{
 "cells": [
  {
   "cell_type": "code",
   "execution_count": 1,
   "id": "ca994f5b",
   "metadata": {},
   "outputs": [],
   "source": [
    "# importing the lib\n",
    "from selenium import webdriver\n",
    "from selenium.webdriver.common.keys import Keys\n",
    "from bs4 import BeautifulSoup\n",
    "import pandas as pd\n",
    "import numpy\n",
    "import time\n",
    "import sys\n",
    "from selenium.webdriver.chrome.service import service\n",
    "from webdriver_manager.chrome import ChromeDriverManager\n",
    "from selenium.webdriver.common.by import By\n",
    "import re\n",
    "import numpy as np"
   ]
  },
  {
   "cell_type": "code",
   "execution_count": null,
   "id": "e76e550a",
   "metadata": {},
   "outputs": [],
   "source": [
    "def kayak(doj,souce_airport,destination_airport):\n",
    "    url=\"https://www.ca.kayak.com/flights/\" +str(source_airport) +\"-\" +str(destination_airport)+ \"/\"+str(doj)+ \"?sort=bestflight_a\"\n",
    "    driver = webdriver.Chrome(ChromeDriverManager().install())\n",
    "    driver.maximize_window()\n",
    "    driver.get(url)\n",
    "    time.sleep(15)\n",
    "    def click_more():\n",
    "    \n",
    "        for val in range(0,50):\n",
    "            try:\n",
    "                driver.find_element_by_xpath(\"//a[@class='moreButton']\").click()\n",
    "                time.sleep(4)\n",
    "                val = val +1\n",
    "\n",
    "            except:\n",
    "                pass\n",
    "    click_more()\n",
    "    \n",
    "    # depart-time base-time\n",
    "    departure_time=[]\n",
    "    departure_time= driver.find_elements_by_xpath(\"//ol[@class='flights']//span[@class='depart-time base-time']\")\n",
    "\n",
    "    arrival_time=[]\n",
    "    arrival_time= driver.find_elements_by_xpath(\"//ol[@class='flights']//span[@class='arrival-time base-time']\")\n",
    "\n",
    "    duration =[]\n",
    "    duration  = driver.find_elements_by_xpath(\"//ol[@class='flights']//div[@class='section duration allow-multi-modal-icons']//div[@class='top']\")\n",
    "\n",
    "\n",
    "    no_stop = []\n",
    "    no_stop  = driver.find_elements_by_xpath(\"//ol[@class='flights']//div[@class='section stops']//div[@class='top']\")\n",
    "\n",
    "    price =[]\n",
    "    price = driver.find_elements_by_xpath(\"//div[@class = 'booking']\")\n",
    "\n",
    "    airlines = []\n",
    "    airlines = driver.find_elements_by_xpath(\"//span[@class = 'codeshares-airline-names']\")\n",
    "\n",
    "    # departure_time = driver.find_elements_by_xpath(\"//div[@class='itinerary-depart-time depart-time']\")\n",
    "\n",
    "    price_list=[]\n",
    "    stops=[]\n",
    "    for i in range(len(departure_time)):\n",
    "        departure_time[i]= departure_time[i].get_attribute('innerHTML')\n",
    "        arrival_time[i] = arrival_time[i].get_attribute('innerHTML')\n",
    "        duration[i] = duration[i].get_attribute('innerHTML')\n",
    "        no_stop[i] = no_stop[i].get_attribute('innerHTML')\n",
    "        l = re.findall(\"(direct|1|2|3|4|5)\",no_stop[i])\n",
    "        stops.append(l)\n",
    "        price[i] = price[i].get_attribute('innerHTML')\n",
    "\n",
    "#         airlines[i] = airlines[i].get_attribute('innerHTML')\n",
    "        b = re.findall(\"nbsp\\;((\\d\\d\\d)|(\\d.\\d\\d\\d)|(\\d\\d.\\d\\d\\d))\",price[i])[0][0]\n",
    "        price_list.append(b)\n",
    "    \n",
    "    for k in range(len(airlines)):\n",
    "        airlines[k] = airlines[k].get_attribute('innerHTML')\n",
    "        \n",
    "    # Creating data frames\n",
    "    departure = len(departure_time)*[str(source_airport)]\n",
    "    arrival = len(departure_time)*[str(destination_airport)]\n",
    "    # a = pd.DataFrame(departure_time,arrival_time,price_list)\n",
    "    doj1 = len(departure_time)*[doj]\n",
    "    df  = pd.DataFrame(doj1,columns=[\"Date of journey\"])\n",
    "    df[\"Source\"] = departure    \n",
    "    df[\"Destination\"] = arrival\n",
    "    df[\"Departure_time\"] = departure_time\n",
    "    df[\"Arrival_time\"] = arrival_time\n",
    "    df[\"Duration\"] = duration\n",
    "    df[\"Stops\"] = stops\n",
    "    df[\"CAD $\"]= price_list\n",
    "    df[\"Airlines\"] = airlines\n",
    "#     df[\"Stops\"]=df[\"Stops\"].astype(str).str.replace(\"\\n\",\"\")\n",
    "    df[\"CAD $\"]=df[\"CAD $\"].astype(str).str.replace(\",\",\"\")\n",
    "    df[\"CAD $\"] = pd.to_numeric(df['CAD $'])\n",
    "#     df[\"Stops\"]=df[\"Stops\"].astype(str).str.replace(\"stops\",\"\")\n",
    "#     df[\"Stops\"]=df[\"Stops\"].astype(str).str.replace(\"stop\",\"\")\n",
    "    df[\"Duration\"]=df[\"Duration\"].astype(str).str.replace(\"\\n\",\"\")\n",
    "    df = df.drop(df[(df.Stops =='3') | (df.Airlines == 'Multiple Airlines')].index)\n",
    "    df= df.drop_duplicates()\n",
    "    df = df.sort_values(by='CAD $')\n",
    "    df = df.reset_index()\n",
    "    df.index = df.index +1\n",
    "    df.pop(\"index\")\n",
    "    return df\n",
    "    \n",
    "    "
   ]
  },
  {
   "cell_type": "code",
   "execution_count": null,
   "id": "55f3fe96",
   "metadata": {
    "scrolled": false
   },
   "outputs": [],
   "source": [
    "# source = [\"YYC\",\"YYZ\",\"YVR\",\"YQB\",\"YHZ\"]\n",
    "# destination = [\"DEL\",\"BOM\",\"BLR\",\"AMD\"]\n",
    "source = [\"YYC\"]\n",
    "destination = [\"BOM\"]\n",
    "\n",
    "doj='2022-05-30'\n",
    "df1 = pd.DataFrame(columns=['Date of journey', 'Source', 'Destination', 'Departure_time',\n",
    "                            'Arrival_time', 'Duration', 'Stops', 'CAD $', 'Airlines'])\n",
    "for val in source:\n",
    "    for values in destination:\n",
    "        source_airport = val\n",
    "        print(source_airport)\n",
    "        destination_airport = values\n",
    "        doj ='2022-05-30'\n",
    "        df = kayak(doj,source_airport,destination_airport)\n",
    "\n",
    "        df1=pd.concat([df1,df])\n",
    "        "
   ]
  },
  {
   "cell_type": "code",
   "execution_count": null,
   "id": "8153cc1f",
   "metadata": {},
   "outputs": [],
   "source": [
    "df1['Stops']"
   ]
  },
  {
   "cell_type": "code",
   "execution_count": 2,
   "id": "fbbc6703",
   "metadata": {},
   "outputs": [
    {
     "name": "stderr",
     "output_type": "stream",
     "text": [
      "\n",
      "\n",
      "====== WebDriver manager ======\n",
      "Current google-chrome version is 99.0.4844\n",
      "Get LATEST chromedriver version for 99.0.4844 google-chrome\n",
      "Driver [C:\\Users\\Haet\\.wdm\\drivers\\chromedriver\\win32\\99.0.4844.51\\chromedriver.exe] found in cache\n",
      "<ipython-input-2-dae93289739f>:5: DeprecationWarning: executable_path has been deprecated, please pass in a Service object\n",
      "  driver = webdriver.Chrome(ChromeDriverManager().install())\n",
      "<ipython-input-2-dae93289739f>:13: DeprecationWarning: find_element_by_* commands are deprecated. Please use find_element() instead\n",
      "  driver.find_element_by_xpath(\"//a[@class='moreButton']\").click()\n"
     ]
    }
   ],
   "source": [
    "source_airport=\"YYZ\"\n",
    "destination_airport=\"BLR\"\n",
    "doj='2022-05-30'\n",
    "url=\"https://www.ca.kayak.com/flights/\" +str(source_airport) +\"-\" +str(destination_airport)+ \"/\"+str(doj)+ \"?sort=bestflight_a\"\n",
    "driver = webdriver.Chrome(ChromeDriverManager().install())\n",
    "driver.maximize_window()\n",
    "driver.get(url)\n",
    "time.sleep(15)\n",
    "def click_more():\n",
    "\n",
    "    for val in range(0,50):\n",
    "        try:\n",
    "            driver.find_element_by_xpath(\"//a[@class='moreButton']\").click()\n",
    "            time.sleep(4)\n",
    "            val = val +1\n",
    "\n",
    "        except:\n",
    "            pass\n",
    "click_more()"
   ]
  },
  {
   "cell_type": "code",
   "execution_count": 4,
   "id": "f1e6d830",
   "metadata": {},
   "outputs": [
    {
     "name": "stderr",
     "output_type": "stream",
     "text": [
      "<ipython-input-4-b14ccfb4e37d>:2: DeprecationWarning: find_elements_by_* commands are deprecated. Please use find_elements() instead\n",
      "  departure_time= driver.find_elements_by_xpath(\"//ol[@class='flights']//span[@class='depart-time base-time']\")\n",
      "<ipython-input-4-b14ccfb4e37d>:5: DeprecationWarning: find_elements_by_* commands are deprecated. Please use find_elements() instead\n",
      "  arrival_time= driver.find_elements_by_xpath(\"//ol[@class='flights']//span[@class='arrival-time base-time']\")\n",
      "<ipython-input-4-b14ccfb4e37d>:8: DeprecationWarning: find_elements_by_* commands are deprecated. Please use find_elements() instead\n",
      "  duration  = driver.find_elements_by_xpath(\"//ol[@class='flights']//div[@class='section duration allow-multi-modal-icons']//div[@class='top']\")\n",
      "<ipython-input-4-b14ccfb4e37d>:11: DeprecationWarning: find_elements_by_* commands are deprecated. Please use find_elements() instead\n",
      "  no_stop  = driver.find_elements_by_xpath(\"//ol[@class='flights']//div[@class='section stops']//div[@class='top']\")\n",
      "<ipython-input-4-b14ccfb4e37d>:14: DeprecationWarning: find_elements_by_* commands are deprecated. Please use find_elements() instead\n",
      "  price = driver.find_elements_by_xpath(\"//div[@class = 'booking']\")\n",
      "<ipython-input-4-b14ccfb4e37d>:17: DeprecationWarning: find_elements_by_* commands are deprecated. Please use find_elements() instead\n",
      "  airlines = driver.find_elements_by_xpath(\"//span[@class = 'codeshares-airline-names']\")\n"
     ]
    }
   ],
   "source": [
    "departure_time=[]\n",
    "departure_time= driver.find_elements_by_xpath(\"//ol[@class='flights']//span[@class='depart-time base-time']\")\n",
    "\n",
    "arrival_time=[]\n",
    "arrival_time= driver.find_elements_by_xpath(\"//ol[@class='flights']//span[@class='arrival-time base-time']\")\n",
    "\n",
    "duration =[]\n",
    "duration  = driver.find_elements_by_xpath(\"//ol[@class='flights']//div[@class='section duration allow-multi-modal-icons']//div[@class='top']\")\n",
    "\n",
    "no_stop = []\n",
    "no_stop  = driver.find_elements_by_xpath(\"//ol[@class='flights']//div[@class='section stops']//div[@class='top']\")\n",
    "\n",
    "price =[]\n",
    "price = driver.find_elements_by_xpath(\"//div[@class = 'booking']\")\n",
    "\n",
    "airlines = []\n",
    "airlines = driver.find_elements_by_xpath(\"//span[@class = 'codeshares-airline-names']\")"
   ]
  },
  {
   "cell_type": "code",
   "execution_count": 10,
   "id": "5033e456",
   "metadata": {},
   "outputs": [
    {
     "data": {
      "text/plain": [
       "'1'"
      ]
     },
     "execution_count": 10,
     "metadata": {},
     "output_type": "execute_result"
    }
   ],
   "source": [
    "b = no_stop[0].get_attribute(\"innerHTML\")\n",
    "l = re.findall(\"(direct|1|2|3|4|5)\",b)[0]\n",
    "l"
   ]
  },
  {
   "cell_type": "code",
   "execution_count": 20,
   "id": "c2f85ecc",
   "metadata": {},
   "outputs": [],
   "source": [
    "stops=[]"
   ]
  },
  {
   "cell_type": "code",
   "execution_count": 25,
   "id": "fc49fea1",
   "metadata": {},
   "outputs": [
    {
     "data": {
      "text/plain": [
       "selenium.webdriver.remote.webelement.WebElement"
      ]
     },
     "execution_count": 25,
     "metadata": {},
     "output_type": "execute_result"
    }
   ],
   "source": [
    "type(no_stop[1])"
   ]
  },
  {
   "cell_type": "code",
   "execution_count": 22,
   "id": "5f8bf182",
   "metadata": {},
   "outputs": [
    {
     "ename": "AttributeError",
     "evalue": "'str' object has no attribute 'get_attribute'",
     "output_type": "error",
     "traceback": [
      "\u001b[1;31m---------------------------------------------------------------------------\u001b[0m",
      "\u001b[1;31mAttributeError\u001b[0m                            Traceback (most recent call last)",
      "\u001b[1;32m<ipython-input-22-caec9d87b976>\u001b[0m in \u001b[0;36m<module>\u001b[1;34m\u001b[0m\n\u001b[0;32m      1\u001b[0m \u001b[1;32mfor\u001b[0m \u001b[0mi\u001b[0m \u001b[1;32min\u001b[0m \u001b[0mrange\u001b[0m\u001b[1;33m(\u001b[0m\u001b[0mlen\u001b[0m\u001b[1;33m(\u001b[0m\u001b[0mdeparture_time\u001b[0m\u001b[1;33m)\u001b[0m\u001b[1;33m)\u001b[0m\u001b[1;33m:\u001b[0m\u001b[1;33m\u001b[0m\u001b[1;33m\u001b[0m\u001b[0m\n\u001b[1;32m----> 2\u001b[1;33m     \u001b[0mno_stop\u001b[0m\u001b[1;33m[\u001b[0m\u001b[0mi\u001b[0m\u001b[1;33m]\u001b[0m \u001b[1;33m=\u001b[0m \u001b[0mno_stop\u001b[0m\u001b[1;33m[\u001b[0m\u001b[0mi\u001b[0m\u001b[1;33m]\u001b[0m\u001b[1;33m.\u001b[0m\u001b[0mget_attribute\u001b[0m\u001b[1;33m(\u001b[0m\u001b[1;34m'innerHTML'\u001b[0m\u001b[1;33m)\u001b[0m\u001b[1;33m\u001b[0m\u001b[1;33m\u001b[0m\u001b[0m\n\u001b[0m\u001b[0;32m      3\u001b[0m     \u001b[0ml\u001b[0m \u001b[1;33m=\u001b[0m \u001b[0mre\u001b[0m\u001b[1;33m.\u001b[0m\u001b[0mfindall\u001b[0m\u001b[1;33m(\u001b[0m\u001b[1;34m\"(direct|1|2|3|4|5)\"\u001b[0m\u001b[1;33m,\u001b[0m\u001b[0mno_stop\u001b[0m\u001b[1;33m[\u001b[0m\u001b[0mi\u001b[0m\u001b[1;33m]\u001b[0m\u001b[1;33m)\u001b[0m\u001b[1;33m[\u001b[0m\u001b[1;36m0\u001b[0m\u001b[1;33m]\u001b[0m\u001b[1;33m\u001b[0m\u001b[1;33m\u001b[0m\u001b[0m\n\u001b[0;32m      4\u001b[0m     \u001b[0mstops\u001b[0m\u001b[1;33m.\u001b[0m\u001b[0mappend\u001b[0m\u001b[1;33m(\u001b[0m\u001b[0ml\u001b[0m\u001b[1;33m)\u001b[0m\u001b[1;33m\u001b[0m\u001b[1;33m\u001b[0m\u001b[0m\n",
      "\u001b[1;31mAttributeError\u001b[0m: 'str' object has no attribute 'get_attribute'"
     ]
    }
   ],
   "source": [
    "for i in range(len(departure_time)):\n",
    "    no_stop[i] = no_stop[i].get_attribute('innerHTML')\n",
    "    l = re.findall(\"(direct|1|2|3|4|5)\",no_stop[i])[0]\n",
    "    stops.append(l)"
   ]
  },
  {
   "cell_type": "code",
   "execution_count": null,
   "id": "7c16b90a",
   "metadata": {},
   "outputs": [],
   "source": [
    "len(price)"
   ]
  },
  {
   "cell_type": "code",
   "execution_count": null,
   "id": "8b65b742",
   "metadata": {},
   "outputs": [],
   "source": []
  }
 ],
 "metadata": {
  "kernelspec": {
   "display_name": "Python 3",
   "language": "python",
   "name": "python3"
  },
  "language_info": {
   "codemirror_mode": {
    "name": "ipython",
    "version": 3
   },
   "file_extension": ".py",
   "mimetype": "text/x-python",
   "name": "python",
   "nbconvert_exporter": "python",
   "pygments_lexer": "ipython3",
   "version": "3.8.8"
  }
 },
 "nbformat": 4,
 "nbformat_minor": 5
}
