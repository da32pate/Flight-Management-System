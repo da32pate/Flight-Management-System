{
 "cells": [
  {
   "cell_type": "code",
   "execution_count": 166,
   "id": "ca994f5b",
   "metadata": {},
   "outputs": [],
   "source": [
    "# importing the lib\n",
    "from selenium import webdriver\n",
    "from selenium.webdriver.common.keys import Keys\n",
    "from bs4 import BeautifulSoup\n",
    "import pandas as pd\n",
    "import numpy\n",
    "import time\n",
    "import sys\n",
    "from selenium.webdriver.chrome.service import service\n",
    "from webdriver_manager.chrome import ChromeDriverManager\n",
    "from selenium.webdriver.common.by import By\n",
    "import re\n",
    "import numpy as np"
   ]
  },
  {
   "cell_type": "code",
   "execution_count": 167,
   "id": "e76e550a",
   "metadata": {},
   "outputs": [],
   "source": [
    "def kayak(doj,souce_airport,destination_airport):\n",
    "    url=\"https://www.ca.kayak.com/flights/\" +str(source_airport) +\"-\" +str(destination_airport)+ \"/\"+str(doj)+ \"?sort=bestflight_a\"\n",
    "    driver = webdriver.Chrome(ChromeDriverManager().install())\n",
    "    driver.maximize_window()\n",
    "    driver.get(url)\n",
    "    time.sleep(25)\n",
    "    def click_more():\n",
    "    \n",
    "        for val in range(0,50):\n",
    "            try:\n",
    "                driver.find_element_by_xpath(\"//a[@class='moreButton']\").click()\n",
    "                time.sleep(5)\n",
    "                val = val +1\n",
    "\n",
    "            except:\n",
    "                pass\n",
    "    click_more()\n",
    "    \n",
    "    # depart-time base-time\n",
    "    departure_time=[]\n",
    "    departure_time= driver.find_elements_by_xpath(\"//ol[@class='flights']//span[@class='depart-time base-time']\")\n",
    "\n",
    "    arrival_time=[]\n",
    "    arrival_time= driver.find_elements_by_xpath(\"//ol[@class='flights']//span[@class='arrival-time base-time']\")\n",
    "\n",
    "    duration =[]\n",
    "    duration  = driver.find_elements_by_xpath(\"//ol[@class='flights']//div[@class='section duration allow-multi-modal-icons']//div[@class='top']\")\n",
    "\n",
    "\n",
    "    no_stop = []\n",
    "    no_stop  = driver.find_elements_by_xpath(\"//ol[@class='flights']//div[@class='section stops']//div[@class='top']\")\n",
    "\n",
    "    price =[]\n",
    "    price = driver.find_elements_by_xpath(\"//div[@class = 'booking']\")\n",
    "\n",
    "    airlines = []\n",
    "    airlines = driver.find_elements_by_xpath(\"//span[@class = 'codeshares-airline-names']\")\n",
    "\n",
    "    # departure_time = driver.find_elements_by_xpath(\"//div[@class='itinerary-depart-time depart-time']\")\n",
    "\n",
    "    \n",
    "    \n",
    "    \n",
    "    price_list=[]\n",
    "    stops=[]\n",
    "    for i in range(len(departure_time)):\n",
    "        departure_time[i]= departure_time[i].get_attribute('innerHTML')\n",
    "        arrival_time[i] = arrival_time[i].get_attribute('innerHTML')\n",
    "        duration[i] = duration[i].get_attribute('innerHTML')\n",
    "        no_stop[i] = no_stop[i].get_attribute('innerHTML')\n",
    "        l = re.findall(\"(direct|1|2|3|4|5)\",no_stop[i])[0]\n",
    "        stops.append(l)\n",
    "        price[i] = price[i].get_attribute('innerHTML')\n",
    "\n",
    "#         airlines[i] = airlines[i].get_attribute('innerHTML')\n",
    "        b = re.findall(\"nbsp\\;((\\d\\d\\d)|(\\d.\\d\\d\\d)|(\\d\\d.\\d\\d\\d))\",price[i])[0][0]\n",
    "        price_list.append(b)\n",
    "    \n",
    "    for k in range(len(airlines)):\n",
    "        airlines[k] = airlines[k].get_attribute('innerHTML')\n",
    "        \n",
    "    # Creating data frames\n",
    "    departure = len(departure_time)*[str(source_airport)]\n",
    "    arrival = len(departure_time)*[str(destination_airport)]\n",
    "    # a = pd.DataFrame(departure_time,arrival_time,price_list)\n",
    "    doj1 = len(departure_time)*[doj]\n",
    "    df  = pd.DataFrame(doj1,columns=[\"Date of journey\"])\n",
    "    df[\"Source\"] = departure    \n",
    "    df[\"Destination\"] = arrival\n",
    "    df[\"Departure_time\"] = departure_time\n",
    "    df[\"Arrival_time\"] = arrival_time\n",
    "    df[\"Duration\"] = duration\n",
    "    df[\"Stops\"] = stops\n",
    "    df[\"CAD $\"]= price_list\n",
    "    df[\"Airlines\"] = airlines\n",
    "#     df[\"Stops\"]=df[\"Stops\"].astype(str).str.replace(\"\\n\",\"\")\n",
    "    df[\"CAD $\"]=df[\"CAD $\"].astype(str).str.replace(\",\",\"\")\n",
    "    df[\"CAD $\"] = pd.to_numeric(df['CAD $'])\n",
    "#     df[\"Stops\"]=df[\"Stops\"].astype(str).str.replace(\"stops\",\"\")\n",
    "#     df[\"Stops\"]=df[\"Stops\"].astype(str).str.replace(\"stop\",\"\")\n",
    "    df[\"Duration\"]=df[\"Duration\"].astype(str).str.replace(\"\\n\",\"\")\n",
    "    df = df.drop(df[(df.Stops =='3') | (df.Airlines == 'Multiple Airlines')].index)\n",
    "    df= df.drop_duplicates()\n",
    "    df = df.sort_values(by='CAD $')\n",
    "    df = df.reset_index()\n",
    "    df.index = df.index +1\n",
    "    df.pop(\"index\")\n",
    "    driver.close()\n",
    "    return df\n",
    "    \n",
    "    "
   ]
  },
  {
   "cell_type": "code",
   "execution_count": 168,
   "id": "55f3fe96",
   "metadata": {
    "scrolled": false
   },
   "outputs": [
    {
     "name": "stderr",
     "output_type": "stream",
     "text": [
      "\n",
      "\n",
      "====== WebDriver manager ======\n",
      "Current google-chrome version is 99.0.4844\n",
      "Get LATEST chromedriver version for 99.0.4844 google-chrome\n",
      "Driver [C:\\Users\\dhair\\.wdm\\drivers\\chromedriver\\win32\\99.0.4844.51\\chromedriver.exe] found in cache\n"
     ]
    },
    {
     "name": "stdout",
     "output_type": "stream",
     "text": [
      "DEL\n",
      "YYZ\n"
     ]
    },
    {
     "name": "stderr",
     "output_type": "stream",
     "text": [
      "<ipython-input-167-fe95f0a50dc9>:3: DeprecationWarning: executable_path has been deprecated, please pass in a Service object\n",
      "  driver = webdriver.Chrome(ChromeDriverManager().install())\n",
      "<ipython-input-167-fe95f0a50dc9>:11: DeprecationWarning: find_element_by_* commands are deprecated. Please use find_element() instead\n",
      "  driver.find_element_by_xpath(\"//a[@class='moreButton']\").click()\n",
      "<ipython-input-167-fe95f0a50dc9>:21: DeprecationWarning: find_elements_by_* commands are deprecated. Please use find_elements() instead\n",
      "  departure_time= driver.find_elements_by_xpath(\"//ol[@class='flights']//span[@class='depart-time base-time']\")\n",
      "<ipython-input-167-fe95f0a50dc9>:24: DeprecationWarning: find_elements_by_* commands are deprecated. Please use find_elements() instead\n",
      "  arrival_time= driver.find_elements_by_xpath(\"//ol[@class='flights']//span[@class='arrival-time base-time']\")\n",
      "<ipython-input-167-fe95f0a50dc9>:27: DeprecationWarning: find_elements_by_* commands are deprecated. Please use find_elements() instead\n",
      "  duration  = driver.find_elements_by_xpath(\"//ol[@class='flights']//div[@class='section duration allow-multi-modal-icons']//div[@class='top']\")\n",
      "<ipython-input-167-fe95f0a50dc9>:31: DeprecationWarning: find_elements_by_* commands are deprecated. Please use find_elements() instead\n",
      "  no_stop  = driver.find_elements_by_xpath(\"//ol[@class='flights']//div[@class='section stops']//div[@class='top']\")\n",
      "<ipython-input-167-fe95f0a50dc9>:34: DeprecationWarning: find_elements_by_* commands are deprecated. Please use find_elements() instead\n",
      "  price = driver.find_elements_by_xpath(\"//div[@class = 'booking']\")\n",
      "<ipython-input-167-fe95f0a50dc9>:37: DeprecationWarning: find_elements_by_* commands are deprecated. Please use find_elements() instead\n",
      "  airlines = driver.find_elements_by_xpath(\"//span[@class = 'codeshares-airline-names']\")\n",
      "\n",
      "\n",
      "====== WebDriver manager ======\n",
      "Current google-chrome version is 99.0.4844\n",
      "Get LATEST chromedriver version for 99.0.4844 google-chrome\n",
      "Driver [C:\\Users\\dhair\\.wdm\\drivers\\chromedriver\\win32\\99.0.4844.51\\chromedriver.exe] found in cache\n"
     ]
    },
    {
     "name": "stdout",
     "output_type": "stream",
     "text": [
      "DEL\n",
      "YYC\n"
     ]
    },
    {
     "name": "stderr",
     "output_type": "stream",
     "text": [
      "\n",
      "\n",
      "====== WebDriver manager ======\n",
      "Current google-chrome version is 99.0.4844\n",
      "Get LATEST chromedriver version for 99.0.4844 google-chrome\n",
      "Driver [C:\\Users\\dhair\\.wdm\\drivers\\chromedriver\\win32\\99.0.4844.51\\chromedriver.exe] found in cache\n"
     ]
    },
    {
     "name": "stdout",
     "output_type": "stream",
     "text": [
      "DEL\n",
      "YVR\n"
     ]
    },
    {
     "name": "stderr",
     "output_type": "stream",
     "text": [
      "\n",
      "\n",
      "====== WebDriver manager ======\n",
      "Current google-chrome version is 99.0.4844\n",
      "Get LATEST chromedriver version for 99.0.4844 google-chrome\n",
      "Driver [C:\\Users\\dhair\\.wdm\\drivers\\chromedriver\\win32\\99.0.4844.51\\chromedriver.exe] found in cache\n"
     ]
    },
    {
     "name": "stdout",
     "output_type": "stream",
     "text": [
      "DEL\n",
      "YQB\n"
     ]
    },
    {
     "name": "stderr",
     "output_type": "stream",
     "text": [
      "\n",
      "\n",
      "====== WebDriver manager ======\n",
      "Current google-chrome version is 99.0.4844\n",
      "Get LATEST chromedriver version for 99.0.4844 google-chrome\n",
      "Driver [C:\\Users\\dhair\\.wdm\\drivers\\chromedriver\\win32\\99.0.4844.51\\chromedriver.exe] found in cache\n"
     ]
    },
    {
     "name": "stdout",
     "output_type": "stream",
     "text": [
      "DEL\n",
      "YHZ\n"
     ]
    },
    {
     "name": "stderr",
     "output_type": "stream",
     "text": [
      "\n",
      "\n",
      "====== WebDriver manager ======\n",
      "Current google-chrome version is 99.0.4844\n",
      "Get LATEST chromedriver version for 99.0.4844 google-chrome\n",
      "Driver [C:\\Users\\dhair\\.wdm\\drivers\\chromedriver\\win32\\99.0.4844.51\\chromedriver.exe] found in cache\n"
     ]
    },
    {
     "name": "stdout",
     "output_type": "stream",
     "text": [
      "BOM\n",
      "YYZ\n"
     ]
    },
    {
     "name": "stderr",
     "output_type": "stream",
     "text": [
      "\n",
      "\n",
      "====== WebDriver manager ======\n",
      "Current google-chrome version is 99.0.4844\n",
      "Get LATEST chromedriver version for 99.0.4844 google-chrome\n",
      "Driver [C:\\Users\\dhair\\.wdm\\drivers\\chromedriver\\win32\\99.0.4844.51\\chromedriver.exe] found in cache\n"
     ]
    },
    {
     "name": "stdout",
     "output_type": "stream",
     "text": [
      "BOM\n",
      "YYC\n"
     ]
    },
    {
     "name": "stderr",
     "output_type": "stream",
     "text": [
      "\n",
      "\n",
      "====== WebDriver manager ======\n",
      "Current google-chrome version is 99.0.4844\n",
      "Get LATEST chromedriver version for 99.0.4844 google-chrome\n",
      "Driver [C:\\Users\\dhair\\.wdm\\drivers\\chromedriver\\win32\\99.0.4844.51\\chromedriver.exe] found in cache\n"
     ]
    },
    {
     "name": "stdout",
     "output_type": "stream",
     "text": [
      "BOM\n",
      "YVR\n"
     ]
    },
    {
     "name": "stderr",
     "output_type": "stream",
     "text": [
      "\n",
      "\n",
      "====== WebDriver manager ======\n",
      "Current google-chrome version is 99.0.4844\n",
      "Get LATEST chromedriver version for 99.0.4844 google-chrome\n",
      "Driver [C:\\Users\\dhair\\.wdm\\drivers\\chromedriver\\win32\\99.0.4844.51\\chromedriver.exe] found in cache\n"
     ]
    },
    {
     "name": "stdout",
     "output_type": "stream",
     "text": [
      "BOM\n",
      "YQB\n"
     ]
    },
    {
     "name": "stderr",
     "output_type": "stream",
     "text": [
      "\n",
      "\n",
      "====== WebDriver manager ======\n",
      "Current google-chrome version is 99.0.4844\n",
      "Get LATEST chromedriver version for 99.0.4844 google-chrome\n",
      "Driver [C:\\Users\\dhair\\.wdm\\drivers\\chromedriver\\win32\\99.0.4844.51\\chromedriver.exe] found in cache\n"
     ]
    },
    {
     "name": "stdout",
     "output_type": "stream",
     "text": [
      "BOM\n",
      "YHZ\n"
     ]
    },
    {
     "name": "stderr",
     "output_type": "stream",
     "text": [
      "\n",
      "\n",
      "====== WebDriver manager ======\n",
      "Current google-chrome version is 99.0.4844\n",
      "Get LATEST chromedriver version for 99.0.4844 google-chrome\n",
      "Driver [C:\\Users\\dhair\\.wdm\\drivers\\chromedriver\\win32\\99.0.4844.51\\chromedriver.exe] found in cache\n"
     ]
    },
    {
     "name": "stdout",
     "output_type": "stream",
     "text": [
      "BLR\n",
      "YYZ\n"
     ]
    },
    {
     "name": "stderr",
     "output_type": "stream",
     "text": [
      "\n",
      "\n",
      "====== WebDriver manager ======\n",
      "Current google-chrome version is 99.0.4844\n",
      "Get LATEST chromedriver version for 99.0.4844 google-chrome\n",
      "Driver [C:\\Users\\dhair\\.wdm\\drivers\\chromedriver\\win32\\99.0.4844.51\\chromedriver.exe] found in cache\n"
     ]
    },
    {
     "name": "stdout",
     "output_type": "stream",
     "text": [
      "BLR\n",
      "YYC\n"
     ]
    },
    {
     "name": "stderr",
     "output_type": "stream",
     "text": [
      "\n",
      "\n",
      "====== WebDriver manager ======\n",
      "Current google-chrome version is 99.0.4844\n",
      "Get LATEST chromedriver version for 99.0.4844 google-chrome\n",
      "Driver [C:\\Users\\dhair\\.wdm\\drivers\\chromedriver\\win32\\99.0.4844.51\\chromedriver.exe] found in cache\n"
     ]
    },
    {
     "name": "stdout",
     "output_type": "stream",
     "text": [
      "BLR\n",
      "YVR\n"
     ]
    },
    {
     "name": "stderr",
     "output_type": "stream",
     "text": [
      "\n",
      "\n",
      "====== WebDriver manager ======\n",
      "Current google-chrome version is 99.0.4844\n",
      "Get LATEST chromedriver version for 99.0.4844 google-chrome\n",
      "Driver [C:\\Users\\dhair\\.wdm\\drivers\\chromedriver\\win32\\99.0.4844.51\\chromedriver.exe] found in cache\n"
     ]
    },
    {
     "name": "stdout",
     "output_type": "stream",
     "text": [
      "BLR\n",
      "YQB\n"
     ]
    },
    {
     "name": "stderr",
     "output_type": "stream",
     "text": [
      "\n",
      "\n",
      "====== WebDriver manager ======\n",
      "Current google-chrome version is 99.0.4844\n",
      "Get LATEST chromedriver version for 99.0.4844 google-chrome\n",
      "Driver [C:\\Users\\dhair\\.wdm\\drivers\\chromedriver\\win32\\99.0.4844.51\\chromedriver.exe] found in cache\n"
     ]
    },
    {
     "name": "stdout",
     "output_type": "stream",
     "text": [
      "BLR\n",
      "YHZ\n"
     ]
    },
    {
     "name": "stderr",
     "output_type": "stream",
     "text": [
      "\n",
      "\n",
      "====== WebDriver manager ======\n",
      "Current google-chrome version is 99.0.4844\n",
      "Get LATEST chromedriver version for 99.0.4844 google-chrome\n",
      "Driver [C:\\Users\\dhair\\.wdm\\drivers\\chromedriver\\win32\\99.0.4844.51\\chromedriver.exe] found in cache\n"
     ]
    },
    {
     "name": "stdout",
     "output_type": "stream",
     "text": [
      "AMD\n",
      "YYZ\n"
     ]
    },
    {
     "name": "stderr",
     "output_type": "stream",
     "text": [
      "\n",
      "\n",
      "====== WebDriver manager ======\n",
      "Current google-chrome version is 99.0.4844\n",
      "Get LATEST chromedriver version for 99.0.4844 google-chrome\n",
      "Driver [C:\\Users\\dhair\\.wdm\\drivers\\chromedriver\\win32\\99.0.4844.51\\chromedriver.exe] found in cache\n"
     ]
    },
    {
     "name": "stdout",
     "output_type": "stream",
     "text": [
      "AMD\n",
      "YYC\n"
     ]
    },
    {
     "name": "stderr",
     "output_type": "stream",
     "text": [
      "\n",
      "\n",
      "====== WebDriver manager ======\n",
      "Current google-chrome version is 99.0.4844\n",
      "Get LATEST chromedriver version for 99.0.4844 google-chrome\n",
      "Driver [C:\\Users\\dhair\\.wdm\\drivers\\chromedriver\\win32\\99.0.4844.51\\chromedriver.exe] found in cache\n"
     ]
    },
    {
     "name": "stdout",
     "output_type": "stream",
     "text": [
      "AMD\n",
      "YVR\n"
     ]
    },
    {
     "name": "stderr",
     "output_type": "stream",
     "text": [
      "\n",
      "\n",
      "====== WebDriver manager ======\n",
      "Current google-chrome version is 99.0.4844\n",
      "Get LATEST chromedriver version for 99.0.4844 google-chrome\n",
      "Driver [C:\\Users\\dhair\\.wdm\\drivers\\chromedriver\\win32\\99.0.4844.51\\chromedriver.exe] found in cache\n"
     ]
    },
    {
     "name": "stdout",
     "output_type": "stream",
     "text": [
      "AMD\n",
      "YQB\n"
     ]
    },
    {
     "name": "stderr",
     "output_type": "stream",
     "text": [
      "\n",
      "\n",
      "====== WebDriver manager ======\n",
      "Current google-chrome version is 99.0.4844\n",
      "Get LATEST chromedriver version for 99.0.4844 google-chrome\n",
      "Driver [C:\\Users\\dhair\\.wdm\\drivers\\chromedriver\\win32\\99.0.4844.51\\chromedriver.exe] found in cache\n"
     ]
    },
    {
     "name": "stdout",
     "output_type": "stream",
     "text": [
      "AMD\n",
      "YHZ\n"
     ]
    },
    {
     "name": "stderr",
     "output_type": "stream",
     "text": [
      "\n",
      "\n",
      "====== WebDriver manager ======\n",
      "Current google-chrome version is 99.0.4844\n",
      "Get LATEST chromedriver version for 99.0.4844 google-chrome\n",
      "Driver [C:\\Users\\dhair\\.wdm\\drivers\\chromedriver\\win32\\99.0.4844.51\\chromedriver.exe] found in cache\n"
     ]
    },
    {
     "name": "stdout",
     "output_type": "stream",
     "text": [
      "IXC\n",
      "YYZ\n"
     ]
    },
    {
     "name": "stderr",
     "output_type": "stream",
     "text": [
      "\n",
      "\n",
      "====== WebDriver manager ======\n",
      "Current google-chrome version is 99.0.4844\n",
      "Get LATEST chromedriver version for 99.0.4844 google-chrome\n",
      "Driver [C:\\Users\\dhair\\.wdm\\drivers\\chromedriver\\win32\\99.0.4844.51\\chromedriver.exe] found in cache\n"
     ]
    },
    {
     "name": "stdout",
     "output_type": "stream",
     "text": [
      "IXC\n",
      "YYC\n"
     ]
    },
    {
     "name": "stderr",
     "output_type": "stream",
     "text": [
      "\n",
      "\n",
      "====== WebDriver manager ======\n",
      "Current google-chrome version is 99.0.4844\n",
      "Get LATEST chromedriver version for 99.0.4844 google-chrome\n",
      "Driver [C:\\Users\\dhair\\.wdm\\drivers\\chromedriver\\win32\\99.0.4844.51\\chromedriver.exe] found in cache\n"
     ]
    },
    {
     "name": "stdout",
     "output_type": "stream",
     "text": [
      "IXC\n",
      "YVR\n"
     ]
    },
    {
     "name": "stderr",
     "output_type": "stream",
     "text": [
      "\n",
      "\n",
      "====== WebDriver manager ======\n",
      "Current google-chrome version is 99.0.4844\n",
      "Get LATEST chromedriver version for 99.0.4844 google-chrome\n",
      "Driver [C:\\Users\\dhair\\.wdm\\drivers\\chromedriver\\win32\\99.0.4844.51\\chromedriver.exe] found in cache\n"
     ]
    },
    {
     "name": "stdout",
     "output_type": "stream",
     "text": [
      "IXC\n",
      "YQB\n"
     ]
    },
    {
     "name": "stderr",
     "output_type": "stream",
     "text": [
      "\n",
      "\n",
      "====== WebDriver manager ======\n",
      "Current google-chrome version is 99.0.4844\n",
      "Get LATEST chromedriver version for 99.0.4844 google-chrome\n",
      "Driver [C:\\Users\\dhair\\.wdm\\drivers\\chromedriver\\win32\\99.0.4844.51\\chromedriver.exe] found in cache\n"
     ]
    },
    {
     "name": "stdout",
     "output_type": "stream",
     "text": [
      "IXC\n",
      "YHZ\n"
     ]
    }
   ],
   "source": [
    "source = [\"DEL\",\"BOM\",\"BLR\",\"AMD\",\"IXC\"]\n",
    "destination =  [\"YYZ\",\"YYC\",\"YVR\",\"YQB\",\"YHZ\"]\n",
    "# source = [\"YVR\"]\n",
    "# destination = [\"BOM\",\"AMD\"]\n",
    "\n",
    "doj=['2022-05-30']\n",
    "df1 = pd.DataFrame(columns=['Date of journey', 'Source', 'Destination', 'Departure_time',\n",
    "                            'Arrival_time', 'Duration', 'Stops', 'CAD $', 'Airlines'])\n",
    "for val in source:\n",
    "    for values in destination:\n",
    "        source_airport = val\n",
    "        print(source_airport)\n",
    "        \n",
    "        \n",
    "        destination_airport = values\n",
    "        print(destination_airport)\n",
    "        doj ='2022-05-30'\n",
    "        df = kayak(doj,source_airport,destination_airport)\n",
    "#         print(\"Departure length\",len(departure_time))\n",
    "#         print(df1.describe())\n",
    "        df.to_csv('kayak1_data.csv', mode='a',index=False,header = False)\n",
    "#         df1=pd.concat([df1,df])\n",
    "#         print(df1.shape())\n",
    "        "
   ]
  },
  {
   "cell_type": "code",
   "execution_count": 169,
   "id": "8153cc1f",
   "metadata": {},
   "outputs": [
    {
     "data": {
      "text/html": [
       "<div>\n",
       "<style scoped>\n",
       "    .dataframe tbody tr th:only-of-type {\n",
       "        vertical-align: middle;\n",
       "    }\n",
       "\n",
       "    .dataframe tbody tr th {\n",
       "        vertical-align: top;\n",
       "    }\n",
       "\n",
       "    .dataframe thead th {\n",
       "        text-align: right;\n",
       "    }\n",
       "</style>\n",
       "<table border=\"1\" class=\"dataframe\">\n",
       "  <thead>\n",
       "    <tr style=\"text-align: right;\">\n",
       "      <th></th>\n",
       "      <th>Date of journey</th>\n",
       "      <th>Source</th>\n",
       "      <th>Destination</th>\n",
       "      <th>Departure_time</th>\n",
       "      <th>Arrival_time</th>\n",
       "      <th>Duration</th>\n",
       "      <th>Stops</th>\n",
       "      <th>CAD $</th>\n",
       "      <th>Airlines</th>\n",
       "    </tr>\n",
       "  </thead>\n",
       "  <tbody>\n",
       "  </tbody>\n",
       "</table>\n",
       "</div>"
      ],
      "text/plain": [
       "Empty DataFrame\n",
       "Columns: [Date of journey, Source, Destination, Departure_time, Arrival_time, Duration, Stops, CAD $, Airlines]\n",
       "Index: []"
      ]
     },
     "execution_count": 169,
     "metadata": {},
     "output_type": "execute_result"
    }
   ],
   "source": [
    "df"
   ]
  },
  {
   "cell_type": "markdown",
   "id": "8ed1e8ec",
   "metadata": {},
   "source": [
    "# DONT RUN BELOW BLOCKS>>>>>>>>>>>>>>>>>>>>>>>>>>>"
   ]
  },
  {
   "cell_type": "code",
   "execution_count": null,
   "id": "95b425c0",
   "metadata": {},
   "outputs": [],
   "source": []
  },
  {
   "cell_type": "code",
   "execution_count": null,
   "id": "b597117c",
   "metadata": {},
   "outputs": [],
   "source": []
  },
  {
   "cell_type": "code",
   "execution_count": null,
   "id": "96a55d42",
   "metadata": {},
   "outputs": [],
   "source": []
  },
  {
   "cell_type": "code",
   "execution_count": null,
   "id": "af93cea3",
   "metadata": {},
   "outputs": [],
   "source": []
  },
  {
   "cell_type": "code",
   "execution_count": null,
   "id": "49234973",
   "metadata": {},
   "outputs": [],
   "source": []
  },
  {
   "cell_type": "code",
   "execution_count": null,
   "id": "e089f045",
   "metadata": {},
   "outputs": [],
   "source": []
  },
  {
   "cell_type": "code",
   "execution_count": null,
   "id": "ca54b6df",
   "metadata": {},
   "outputs": [],
   "source": []
  },
  {
   "cell_type": "code",
   "execution_count": null,
   "id": "f8fb8168",
   "metadata": {},
   "outputs": [],
   "source": []
  },
  {
   "cell_type": "code",
   "execution_count": null,
   "id": "d6013b00",
   "metadata": {},
   "outputs": [],
   "source": []
  },
  {
   "cell_type": "code",
   "execution_count": null,
   "id": "8bd85dc0",
   "metadata": {},
   "outputs": [],
   "source": []
  },
  {
   "cell_type": "code",
   "execution_count": null,
   "id": "1b995f13",
   "metadata": {},
   "outputs": [],
   "source": []
  },
  {
   "cell_type": "code",
   "execution_count": null,
   "id": "509093ad",
   "metadata": {},
   "outputs": [],
   "source": []
  },
  {
   "cell_type": "code",
   "execution_count": 136,
   "id": "fbbc6703",
   "metadata": {},
   "outputs": [
    {
     "name": "stderr",
     "output_type": "stream",
     "text": [
      "\n",
      "\n",
      "====== WebDriver manager ======\n",
      "Current google-chrome version is 99.0.4844\n",
      "Get LATEST chromedriver version for 99.0.4844 google-chrome\n",
      "Driver [C:\\Users\\dhair\\.wdm\\drivers\\chromedriver\\win32\\99.0.4844.51\\chromedriver.exe] found in cache\n",
      "<ipython-input-136-c6fc797b702c>:5: DeprecationWarning: executable_path has been deprecated, please pass in a Service object\n",
      "  driver = webdriver.Chrome(ChromeDriverManager().install())\n",
      "<ipython-input-136-c6fc797b702c>:13: DeprecationWarning: find_element_by_* commands are deprecated. Please use find_element() instead\n",
      "  driver.find_element_by_xpath(\"//a[@class='moreButton']\").click()\n"
     ]
    }
   ],
   "source": [
    "source_airport=\"DEL\"\n",
    "destination_airport=\"YHZ\"\n",
    "doj='2022-05-30'\n",
    "url=\"https://www.ca.kayak.com/flights/\" +str(source_airport) +\"-\" +str(destination_airport)+ \"/\"+str(doj)+ \"?sort=bestflight_a\"\n",
    "driver = webdriver.Chrome(ChromeDriverManager().install())\n",
    "driver.maximize_window()\n",
    "driver.get(url)\n",
    "time.sleep(15)\n",
    "def click_more():\n",
    "\n",
    "    for val in range(0,50):\n",
    "        try:\n",
    "            driver.find_element_by_xpath(\"//a[@class='moreButton']\").click()\n",
    "            time.sleep(4)\n",
    "            val = val +1\n",
    "\n",
    "        except:\n",
    "            pass\n",
    "click_more()"
   ]
  },
  {
   "cell_type": "code",
   "execution_count": 137,
   "id": "f1e6d830",
   "metadata": {},
   "outputs": [
    {
     "name": "stderr",
     "output_type": "stream",
     "text": [
      "<ipython-input-137-b14ccfb4e37d>:2: DeprecationWarning: find_elements_by_* commands are deprecated. Please use find_elements() instead\n",
      "  departure_time= driver.find_elements_by_xpath(\"//ol[@class='flights']//span[@class='depart-time base-time']\")\n",
      "<ipython-input-137-b14ccfb4e37d>:5: DeprecationWarning: find_elements_by_* commands are deprecated. Please use find_elements() instead\n",
      "  arrival_time= driver.find_elements_by_xpath(\"//ol[@class='flights']//span[@class='arrival-time base-time']\")\n",
      "<ipython-input-137-b14ccfb4e37d>:8: DeprecationWarning: find_elements_by_* commands are deprecated. Please use find_elements() instead\n",
      "  duration  = driver.find_elements_by_xpath(\"//ol[@class='flights']//div[@class='section duration allow-multi-modal-icons']//div[@class='top']\")\n",
      "<ipython-input-137-b14ccfb4e37d>:11: DeprecationWarning: find_elements_by_* commands are deprecated. Please use find_elements() instead\n",
      "  no_stop  = driver.find_elements_by_xpath(\"//ol[@class='flights']//div[@class='section stops']//div[@class='top']\")\n",
      "<ipython-input-137-b14ccfb4e37d>:14: DeprecationWarning: find_elements_by_* commands are deprecated. Please use find_elements() instead\n",
      "  price = driver.find_elements_by_xpath(\"//div[@class = 'booking']\")\n",
      "<ipython-input-137-b14ccfb4e37d>:17: DeprecationWarning: find_elements_by_* commands are deprecated. Please use find_elements() instead\n",
      "  airlines = driver.find_elements_by_xpath(\"//span[@class = 'codeshares-airline-names']\")\n"
     ]
    }
   ],
   "source": [
    "departure_time=[]\n",
    "departure_time= driver.find_elements_by_xpath(\"//ol[@class='flights']//span[@class='depart-time base-time']\")\n",
    "\n",
    "arrival_time=[]\n",
    "arrival_time= driver.find_elements_by_xpath(\"//ol[@class='flights']//span[@class='arrival-time base-time']\")\n",
    "\n",
    "duration =[]\n",
    "duration  = driver.find_elements_by_xpath(\"//ol[@class='flights']//div[@class='section duration allow-multi-modal-icons']//div[@class='top']\")\n",
    "\n",
    "no_stop = []\n",
    "no_stop  = driver.find_elements_by_xpath(\"//ol[@class='flights']//div[@class='section stops']//div[@class='top']\")\n",
    "\n",
    "price =[]\n",
    "price = driver.find_elements_by_xpath(\"//div[@class = 'booking']\")\n",
    "\n",
    "airlines = []\n",
    "airlines = driver.find_elements_by_xpath(\"//span[@class = 'codeshares-airline-names']\")"
   ]
  },
  {
   "cell_type": "code",
   "execution_count": 138,
   "id": "c6edf867",
   "metadata": {},
   "outputs": [
    {
     "data": {
      "text/plain": [
       "86"
      ]
     },
     "execution_count": 138,
     "metadata": {},
     "output_type": "execute_result"
    }
   ],
   "source": [
    "len(no_stop)"
   ]
  },
  {
   "cell_type": "code",
   "execution_count": 139,
   "id": "c2f85ecc",
   "metadata": {},
   "outputs": [],
   "source": [
    "stops=[]"
   ]
  },
  {
   "cell_type": "code",
   "execution_count": 140,
   "id": "fc49fea1",
   "metadata": {},
   "outputs": [
    {
     "data": {
      "text/plain": [
       "selenium.webdriver.remote.webelement.WebElement"
      ]
     },
     "execution_count": 140,
     "metadata": {},
     "output_type": "execute_result"
    }
   ],
   "source": [
    "type(no_stop[1])"
   ]
  },
  {
   "cell_type": "code",
   "execution_count": 141,
   "id": "5f8bf182",
   "metadata": {},
   "outputs": [],
   "source": [
    "for i in range(len(departure_time)):\n",
    "    no_stop[i] = no_stop[i].get_attribute('innerHTML')\n",
    "    l = re.findall(\"(direct|1|2|3|4|5)\",no_stop[i])[0]\n",
    "    stops.append(l)"
   ]
  },
  {
   "cell_type": "code",
   "execution_count": 142,
   "id": "8b65b742",
   "metadata": {},
   "outputs": [
    {
     "data": {
      "text/plain": [
       "['2',\n",
       " '3',\n",
       " '2',\n",
       " '2',\n",
       " '2',\n",
       " '2',\n",
       " '2',\n",
       " '2',\n",
       " '2',\n",
       " '2',\n",
       " '2',\n",
       " '2',\n",
       " '2',\n",
       " '2',\n",
       " '2',\n",
       " '2',\n",
       " '2',\n",
       " '2',\n",
       " '2',\n",
       " '2',\n",
       " '2',\n",
       " '2',\n",
       " '2',\n",
       " '3',\n",
       " '3',\n",
       " '3',\n",
       " '2',\n",
       " '2',\n",
       " '2',\n",
       " '1',\n",
       " '3',\n",
       " '3',\n",
       " '2',\n",
       " '2',\n",
       " '2',\n",
       " '2',\n",
       " '2',\n",
       " '2',\n",
       " '2',\n",
       " '2',\n",
       " '2',\n",
       " '3',\n",
       " '2',\n",
       " '2',\n",
       " '2',\n",
       " '2',\n",
       " '2',\n",
       " '1',\n",
       " '2',\n",
       " '2',\n",
       " '2',\n",
       " '2',\n",
       " '2',\n",
       " '2',\n",
       " '2',\n",
       " '2',\n",
       " '2',\n",
       " '2',\n",
       " '1',\n",
       " '1',\n",
       " '2',\n",
       " '2',\n",
       " '2',\n",
       " '2',\n",
       " '2',\n",
       " '2',\n",
       " '2',\n",
       " '2',\n",
       " '1',\n",
       " '2',\n",
       " '1',\n",
       " '2',\n",
       " '1',\n",
       " '2',\n",
       " '1',\n",
       " '1',\n",
       " '1',\n",
       " '2',\n",
       " '2',\n",
       " '2',\n",
       " '1',\n",
       " '1',\n",
       " '2',\n",
       " '2',\n",
       " '2',\n",
       " '2']"
      ]
     },
     "execution_count": 142,
     "metadata": {},
     "output_type": "execute_result"
    }
   ],
   "source": [
    "stops"
   ]
  },
  {
   "cell_type": "code",
   "execution_count": null,
   "id": "c934b6a1",
   "metadata": {},
   "outputs": [],
   "source": []
  }
 ],
 "metadata": {
  "kernelspec": {
   "display_name": "Python 3",
   "language": "python",
   "name": "python3"
  },
  "language_info": {
   "codemirror_mode": {
    "name": "ipython",
    "version": 3
   },
   "file_extension": ".py",
   "mimetype": "text/x-python",
   "name": "python",
   "nbconvert_exporter": "python",
   "pygments_lexer": "ipython3",
   "version": "3.8.8"
  }
 },
 "nbformat": 4,
 "nbformat_minor": 5
}
