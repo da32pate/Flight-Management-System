{
 "cells": [
  {
   "cell_type": "code",
   "execution_count": 1,
   "id": "ca994f5b",
   "metadata": {},
   "outputs": [],
   "source": [
    "# importing the lib\n",
    "from selenium import webdriver\n",
    "from selenium.webdriver.common.keys import Keys\n",
    "from bs4 import BeautifulSoup\n",
    "import pandas as pd\n",
    "import numpy\n",
    "import time\n",
    "import sys\n",
    "from selenium.webdriver.chrome.service import service\n",
    "from webdriver_manager.chrome import ChromeDriverManager\n",
    "from selenium.webdriver.common.by import By\n",
    "import re\n",
    "import numpy as np"
   ]
  },
  {
   "cell_type": "code",
   "execution_count": null,
   "id": "617606ac",
   "metadata": {},
   "outputs": [],
   "source": []
  },
  {
   "cell_type": "code",
   "execution_count": 38,
   "id": "ce57382c",
   "metadata": {},
   "outputs": [
    {
     "name": "stderr",
     "output_type": "stream",
     "text": [
      "\n",
      "\n",
      "====== WebDriver manager ======\n",
      "Current google-chrome version is 99.0.4844\n",
      "Get LATEST chromedriver version for 99.0.4844 google-chrome\n",
      "Driver [C:\\Users\\Haet\\.wdm\\drivers\\chromedriver\\win32\\99.0.4844.51\\chromedriver.exe] found in cache\n",
      "<ipython-input-38-2620ec44e1ce>:6: DeprecationWarning: executable_path has been deprecated, please pass in a Service object\n",
      "  driver = webdriver.Chrome(ChromeDriverManager().install())\n"
     ]
    }
   ],
   "source": [
    "# Opening chrome and opening the site\n",
    "\n",
    "url=\"https://www.ca.kayak.com/flights/YYZ-AMD/2022-05-30?sort=bestflight_a\"\n",
    "\n",
    "\n",
    "driver = webdriver.Chrome(ChromeDriverManager().install())\n",
    "driver.maximize_window()\n",
    "driver.get(url)\n",
    "time.sleep(25)"
   ]
  },
  {
   "cell_type": "code",
   "execution_count": 39,
   "id": "e2ef9006",
   "metadata": {},
   "outputs": [],
   "source": [
    "def click_more():\n",
    "    \n",
    "    for val in range(0,50):\n",
    "        try:\n",
    "            driver.find_element_by_xpath(\"//a[@class='moreButton']\").click()\n",
    "            time.sleep(5)\n",
    "            val = val +1\n",
    "\n",
    "        except:\n",
    "            pass"
   ]
  },
  {
   "cell_type": "code",
   "execution_count": 40,
   "id": "bf0c509d",
   "metadata": {},
   "outputs": [
    {
     "name": "stderr",
     "output_type": "stream",
     "text": [
      "<ipython-input-39-088966e7e9cf>:5: DeprecationWarning: find_element_by_* commands are deprecated. Please use find_element() instead\n",
      "  driver.find_element_by_xpath(\"//a[@class='moreButton']\").click()\n"
     ]
    }
   ],
   "source": [
    "click_more()"
   ]
  },
  {
   "cell_type": "code",
   "execution_count": 50,
   "id": "7f95e5fd",
   "metadata": {},
   "outputs": [
    {
     "name": "stderr",
     "output_type": "stream",
     "text": [
      "<ipython-input-50-cea6b58c975d>:3: DeprecationWarning: find_elements_by_* commands are deprecated. Please use find_elements() instead\n",
      "  departure_time= driver.find_elements_by_xpath(\"//span[@class='depart-time base-time']\")\n",
      "<ipython-input-50-cea6b58c975d>:6: DeprecationWarning: find_elements_by_* commands are deprecated. Please use find_elements() instead\n",
      "  arrival_time= driver.find_elements_by_xpath(\"//span[@class='arrival-time base-time']\")\n",
      "<ipython-input-50-cea6b58c975d>:9: DeprecationWarning: find_elements_by_* commands are deprecated. Please use find_elements() instead\n",
      "  duration  = driver.find_elements_by_xpath(\"//div[@class='section duration allow-multi-modal-icons']//div[@class='top']\")\n",
      "<ipython-input-50-cea6b58c975d>:12: DeprecationWarning: find_elements_by_* commands are deprecated. Please use find_elements() instead\n",
      "  no_stop  = driver.find_elements_by_class_name(\"stops-text\")\n",
      "<ipython-input-50-cea6b58c975d>:15: DeprecationWarning: find_elements_by_* commands are deprecated. Please use find_elements() instead\n",
      "  price = driver.find_elements_by_xpath(\"//div[@class = 'booking']\")\n",
      "<ipython-input-50-cea6b58c975d>:18: DeprecationWarning: find_elements_by_* commands are deprecated. Please use find_elements() instead\n",
      "  airlines = driver.find_elements_by_xpath(\"//span[@class = 'codeshares-airline-names']\")\n"
     ]
    }
   ],
   "source": [
    "# depart-time base-time\n",
    "departure_time=[]\n",
    "departure_time= driver.find_elements_by_xpath(\"//span[@class='depart-time base-time']\")\n",
    "\n",
    "arrival_time=[]\n",
    "arrival_time= driver.find_elements_by_xpath(\"//span[@class='arrival-time base-time']\")\n",
    "\n",
    "duration =[]\n",
    "duration  = driver.find_elements_by_xpath(\"//div[@class='section duration allow-multi-modal-icons']//div[@class='top']\")\n",
    "\n",
    "no_stop = []\n",
    "no_stop  = driver.find_elements_by_class_name(\"stops-text\")\n",
    "\n",
    "price =[]\n",
    "price = driver.find_elements_by_xpath(\"//div[@class = 'booking']\")\n",
    "\n",
    "airlines = []\n",
    "airlines = driver.find_elements_by_xpath(\"//span[@class = 'codeshares-airline-names']\")\n",
    "\n",
    "# departure_time = driver.find_elements_by_xpath(\"//div[@class='itinerary-depart-time depart-time']\")\n",
    "\n",
    "price_list=[]\n",
    "for i in range(len(departure_time)):\n",
    "        departure_time[i]= departure_time[i].get_attribute('innerHTML')\n",
    "        arrival_time[i] = arrival_time[i].get_attribute('innerHTML')\n",
    "        duration[i] = duration[i].get_attribute('innerHTML')\n",
    "        no_stop[i] = no_stop[i].get_attribute('innerHTML')\n",
    "        price[i] = price[i].get_attribute('innerHTML')\n",
    "        airlines[i] = airlines[i].get_attribute('innerHTML')\n",
    "        b = re.findall(\"nbsp\\;((\\d\\d\\d)|(\\d.\\d\\d\\d)|(\\d\\d.\\d\\d\\d))\",price[i])[0][0]\n",
    "#         b = b[0][0]\n",
    "        price_list.append(b)"
   ]
  },
  {
   "cell_type": "code",
   "execution_count": 51,
   "id": "6edba72c",
   "metadata": {},
   "outputs": [],
   "source": [
    "# price_list=[]\n",
    "# for i in range(len(price)):\n",
    "#     b = re.findall(\"nbsp\\;((\\d\\d\\d)|(\\d.\\d\\d\\d)|(\\d\\d.\\d\\d\\d))\",price[i])\n",
    "#     b = b[0][0]\n",
    "#     price_list.append(b)\n",
    "    "
   ]
  },
  {
   "cell_type": "code",
   "execution_count": 58,
   "id": "5b7bd322",
   "metadata": {},
   "outputs": [
    {
     "data": {
      "text/plain": [
       "'Air Transat, Vistara'"
      ]
     },
     "execution_count": 58,
     "metadata": {},
     "output_type": "execute_result"
    }
   ],
   "source": [
    "airlines[1]"
   ]
  },
  {
   "cell_type": "code",
   "execution_count": 52,
   "id": "878e02b2",
   "metadata": {},
   "outputs": [],
   "source": [
    "# Creating data frames\n",
    "departure = len(departure_time)*[\"YYZ\"]\n",
    "arrival = len(departure_time)*[\"AMD\"]\n",
    "# a = pd.DataFrame(departure_time,arrival_time,price_list)\n"
   ]
  },
  {
   "cell_type": "code",
   "execution_count": 55,
   "id": "ad0e58b2",
   "metadata": {},
   "outputs": [],
   "source": [
    "df  = pd.DataFrame(departure,columns=[\"Source\"])\n",
    "df[\"Destination\"] = arrival\n",
    "df[\"Departure_time\"] = departure_time\n",
    "df[\"Arrival_time\"] = arrival_time\n",
    "df[\"Stops\"] = no_stop\n",
    "df[\"CAD $\"]= price_list\n",
    "df[\"Airlines\"] = airlines"
   ]
  },
  {
   "cell_type": "code",
   "execution_count": 64,
   "id": "e770d4ba",
   "metadata": {},
   "outputs": [
    {
     "data": {
      "text/plain": [
       "'\\n3 stops '"
      ]
     },
     "execution_count": 64,
     "metadata": {},
     "output_type": "execute_result"
    }
   ],
   "source": [
    "max(no_stop)\n",
    "\n"
   ]
  },
  {
   "cell_type": "code",
   "execution_count": 65,
   "id": "b2faf3bb",
   "metadata": {},
   "outputs": [
    {
     "data": {
      "text/html": [
       "<div>\n",
       "<style scoped>\n",
       "    .dataframe tbody tr th:only-of-type {\n",
       "        vertical-align: middle;\n",
       "    }\n",
       "\n",
       "    .dataframe tbody tr th {\n",
       "        vertical-align: top;\n",
       "    }\n",
       "\n",
       "    .dataframe thead th {\n",
       "        text-align: right;\n",
       "    }\n",
       "</style>\n",
       "<table border=\"1\" class=\"dataframe\">\n",
       "  <thead>\n",
       "    <tr style=\"text-align: right;\">\n",
       "      <th></th>\n",
       "      <th>Source</th>\n",
       "      <th>Destination</th>\n",
       "      <th>Departure_time</th>\n",
       "      <th>Arrival_time</th>\n",
       "      <th>Stops</th>\n",
       "      <th>CAD $</th>\n",
       "      <th>Airlines</th>\n",
       "    </tr>\n",
       "  </thead>\n",
       "  <tbody>\n",
       "    <tr>\n",
       "      <th>0</th>\n",
       "      <td>YYZ</td>\n",
       "      <td>AMD</td>\n",
       "      <td>12:15 p.m.</td>\n",
       "      <td>9:40 p.m.</td>\n",
       "      <td>\\n1 stop</td>\n",
       "      <td>1,121</td>\n",
       "      <td>Air India</td>\n",
       "    </tr>\n",
       "    <tr>\n",
       "      <th>1</th>\n",
       "      <td>YYZ</td>\n",
       "      <td>AMD</td>\n",
       "      <td>10:45 p.m.</td>\n",
       "      <td>8:05 p.m.</td>\n",
       "      <td>\\n2 stops</td>\n",
       "      <td>1,063</td>\n",
       "      <td>Air Transat, Vistara</td>\n",
       "    </tr>\n",
       "    <tr>\n",
       "      <th>2</th>\n",
       "      <td>YYZ</td>\n",
       "      <td>AMD</td>\n",
       "      <td>2:30 p.m.</td>\n",
       "      <td>3:05 a.m.</td>\n",
       "      <td>\\n1 stop</td>\n",
       "      <td>1,139</td>\n",
       "      <td>Emirates</td>\n",
       "    </tr>\n",
       "    <tr>\n",
       "      <th>3</th>\n",
       "      <td>YYZ</td>\n",
       "      <td>AMD</td>\n",
       "      <td>6:35 p.m.</td>\n",
       "      <td>4:25 a.m.</td>\n",
       "      <td>\\n2 stops</td>\n",
       "      <td>1,385</td>\n",
       "      <td>Air Canada, Etihad Airways</td>\n",
       "    </tr>\n",
       "    <tr>\n",
       "      <th>4</th>\n",
       "      <td>YYZ</td>\n",
       "      <td>AMD</td>\n",
       "      <td>9:40 p.m.</td>\n",
       "      <td>4:25 a.m.</td>\n",
       "      <td>\\n1 stop</td>\n",
       "      <td>1,604</td>\n",
       "      <td>Etihad Airways</td>\n",
       "    </tr>\n",
       "    <tr>\n",
       "      <th>...</th>\n",
       "      <td>...</td>\n",
       "      <td>...</td>\n",
       "      <td>...</td>\n",
       "      <td>...</td>\n",
       "      <td>...</td>\n",
       "      <td>...</td>\n",
       "      <td>...</td>\n",
       "    </tr>\n",
       "    <tr>\n",
       "      <th>59</th>\n",
       "      <td>YYZ</td>\n",
       "      <td>AMD</td>\n",
       "      <td>6:20 p.m.</td>\n",
       "      <td>3:05 a.m.</td>\n",
       "      <td>\\n2 stops</td>\n",
       "      <td>8,364</td>\n",
       "      <td>Multiple Airlines</td>\n",
       "    </tr>\n",
       "    <tr>\n",
       "      <th>60</th>\n",
       "      <td>YYZ</td>\n",
       "      <td>AMD</td>\n",
       "      <td>6:45 p.m.</td>\n",
       "      <td>3:05 a.m.</td>\n",
       "      <td>\\n2 stops</td>\n",
       "      <td>8,750</td>\n",
       "      <td>Air Canada, Emirates</td>\n",
       "    </tr>\n",
       "    <tr>\n",
       "      <th>61</th>\n",
       "      <td>YYZ</td>\n",
       "      <td>AMD</td>\n",
       "      <td>11:50 p.m.</td>\n",
       "      <td>8:00 p.m.</td>\n",
       "      <td>\\n2 stops</td>\n",
       "      <td>9,699</td>\n",
       "      <td>Lufthansa, Air India</td>\n",
       "    </tr>\n",
       "    <tr>\n",
       "      <th>62</th>\n",
       "      <td>YYZ</td>\n",
       "      <td>AMD</td>\n",
       "      <td>11:50 p.m.</td>\n",
       "      <td>8:00 p.m.</td>\n",
       "      <td>\\n2 stops</td>\n",
       "      <td>9,699</td>\n",
       "      <td>Lufthansa, Air India</td>\n",
       "    </tr>\n",
       "    <tr>\n",
       "      <th>63</th>\n",
       "      <td>YYZ</td>\n",
       "      <td>AMD</td>\n",
       "      <td>6:50 p.m.</td>\n",
       "      <td>4:25 a.m.</td>\n",
       "      <td>\\n2 stops</td>\n",
       "      <td>20,200</td>\n",
       "      <td>Air Canada, Etihad Airways</td>\n",
       "    </tr>\n",
       "  </tbody>\n",
       "</table>\n",
       "<p>64 rows × 7 columns</p>\n",
       "</div>"
      ],
      "text/plain": [
       "   Source Destination Departure_time Arrival_time       Stops   CAD $  \\\n",
       "0     YYZ         AMD     12:15 p.m.    9:40 p.m.   \\n1 stop    1,121   \n",
       "1     YYZ         AMD     10:45 p.m.    8:05 p.m.  \\n2 stops    1,063   \n",
       "2     YYZ         AMD      2:30 p.m.    3:05 a.m.   \\n1 stop    1,139   \n",
       "3     YYZ         AMD      6:35 p.m.    4:25 a.m.  \\n2 stops    1,385   \n",
       "4     YYZ         AMD      9:40 p.m.    4:25 a.m.   \\n1 stop    1,604   \n",
       "..    ...         ...            ...          ...         ...     ...   \n",
       "59    YYZ         AMD      6:20 p.m.    3:05 a.m.  \\n2 stops    8,364   \n",
       "60    YYZ         AMD      6:45 p.m.    3:05 a.m.  \\n2 stops    8,750   \n",
       "61    YYZ         AMD     11:50 p.m.    8:00 p.m.  \\n2 stops    9,699   \n",
       "62    YYZ         AMD     11:50 p.m.    8:00 p.m.  \\n2 stops    9,699   \n",
       "63    YYZ         AMD      6:50 p.m.    4:25 a.m.  \\n2 stops   20,200   \n",
       "\n",
       "                      Airlines  \n",
       "0                    Air India  \n",
       "1         Air Transat, Vistara  \n",
       "2                     Emirates  \n",
       "3   Air Canada, Etihad Airways  \n",
       "4               Etihad Airways  \n",
       "..                         ...  \n",
       "59           Multiple Airlines  \n",
       "60        Air Canada, Emirates  \n",
       "61        Lufthansa, Air India  \n",
       "62        Lufthansa, Air India  \n",
       "63  Air Canada, Etihad Airways  \n",
       "\n",
       "[64 rows x 7 columns]"
      ]
     },
     "execution_count": 65,
     "metadata": {},
     "output_type": "execute_result"
    }
   ],
   "source": [
    "df"
   ]
  },
  {
   "cell_type": "code",
   "execution_count": null,
   "id": "6fcd5182",
   "metadata": {},
   "outputs": [],
   "source": []
  }
 ],
 "metadata": {
  "kernelspec": {
   "display_name": "Python 3",
   "language": "python",
   "name": "python3"
  },
  "language_info": {
   "codemirror_mode": {
    "name": "ipython",
    "version": 3
   },
   "file_extension": ".py",
   "mimetype": "text/x-python",
   "name": "python",
   "nbconvert_exporter": "python",
   "pygments_lexer": "ipython3",
   "version": "3.8.8"
  }
 },
 "nbformat": 4,
 "nbformat_minor": 5
}
