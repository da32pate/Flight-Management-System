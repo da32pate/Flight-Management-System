{
 "cells": [
  {
   "cell_type": "code",
   "execution_count": 10,
   "id": "43e2a566",
   "metadata": {},
   "outputs": [],
   "source": [
    "# importing the lib\n",
    "from selenium import webdriver\n",
    "from selenium.webdriver.common.keys import Keys\n",
    "from bs4 import BeautifulSoup\n",
    "import pandas\n",
    "import numpy\n",
    "import time\n",
    "import sys"
   ]
  },
  {
   "cell_type": "code",
   "execution_count": 12,
   "id": "7fdbef32",
   "metadata": {},
   "outputs": [],
   "source": [
    "# Driver path for google chrome\n",
    "driver_path = 'S:\\chromedriver\\chromedriver_win32\\chromedriver.exe'\n",
    "url_kayak = ' https://www.ca.kayak.com/flights/YYZ-DEL/2022-02-20?sort=bestflight_a'\n",
    "url_aircanada = \"https://www.aircanada.com/ca/en/aco/home/app.html#/search?org1=YYZ&dest1=DEL&orgType1=A&destType1=A&departure1=03/07/2022&marketCode=INT&numberOfAdults=1&numberOfYouth=0&numberOfChildren=0&numberOfInfants=0&numberOfInfantsOnSeat=0&tripType=O&isFlexible=false\""
   ]
  },
  {
   "cell_type": "code",
   "execution_count": 66,
   "id": "2e734025",
   "metadata": {},
   "outputs": [
    {
     "name": "stderr",
     "output_type": "stream",
     "text": [
      "\n",
      "\n",
      "====== WebDriver manager ======\n",
      "Current google-chrome version is 98.0.4758\n",
      "Get LATEST chromedriver version for 98.0.4758 google-chrome\n",
      "There is no [win32] chromedriver for browser  in cache\n",
      "Trying to download new driver from https://chromedriver.storage.googleapis.com/98.0.4758.80/chromedriver_win32.zip\n",
      "Driver has been saved in cache [C:\\Users\\Haet\\.wdm\\drivers\\chromedriver\\win32\\98.0.4758.80]\n",
      "<ipython-input-66-d711cbb96f1a>:4: DeprecationWarning: executable_path has been deprecated, please pass in a Service object\n",
      "  driver = webdriver.Chrome(ChromeDriverManager().install())\n"
     ]
    }
   ],
   "source": [
    "from selenium.webdriver.chrome.service import service\n",
    "from webdriver_manager.chrome import ChromeDriverManager\n",
    "from selenium.webdriver.common.by import By\n",
    "driver = webdriver.Chrome(ChromeDriverManager().install())\n",
    "driver.maximize_window()\n",
    "driver.get('https://www.google.com')\n",
    "\n"
   ]
  },
  {
   "cell_type": "code",
   "execution_count": 63,
   "id": "0489135f",
   "metadata": {},
   "outputs": [
    {
     "ename": "TypeError",
     "evalue": "'module' object is not callable",
     "output_type": "error",
     "traceback": [
      "\u001b[1;31m---------------------------------------------------------------------------\u001b[0m",
      "\u001b[1;31mTypeError\u001b[0m                                 Traceback (most recent call last)",
      "\u001b[1;32m<ipython-input-63-dc63d2ae782e>\u001b[0m in \u001b[0;36m<module>\u001b[1;34m\u001b[0m\n\u001b[1;32m----> 1\u001b[1;33m \u001b[0ms\u001b[0m \u001b[1;33m=\u001b[0m \u001b[0mservice\u001b[0m\u001b[1;33m(\u001b[0m\u001b[1;34m\"S:\\chromedriver\\chromedriver_win32\\chromedriver.exe\"\u001b[0m\u001b[1;33m)\u001b[0m\u001b[1;33m\u001b[0m\u001b[1;33m\u001b[0m\u001b[0m\n\u001b[0m\u001b[0;32m      2\u001b[0m \u001b[0mdriver\u001b[0m \u001b[1;33m=\u001b[0m \u001b[0mwebdriver\u001b[0m\u001b[1;33m.\u001b[0m\u001b[0mChrome\u001b[0m\u001b[1;33m(\u001b[0m\u001b[0mservice\u001b[0m\u001b[1;33m=\u001b[0m \u001b[0ms\u001b[0m\u001b[1;33m)\u001b[0m\u001b[1;33m\u001b[0m\u001b[1;33m\u001b[0m\u001b[0m\n",
      "\u001b[1;31mTypeError\u001b[0m: 'module' object is not callable"
     ]
    }
   ],
   "source": [
    "s = service(\"S:\\chromedriver\\chromedriver_win32\\chromedriver.exe\")\n",
    "driver = webdriver.Chrome(service= s)"
   ]
  },
  {
   "cell_type": "code",
   "execution_count": 13,
   "id": "e54cf368",
   "metadata": {},
   "outputs": [
    {
     "name": "stderr",
     "output_type": "stream",
     "text": [
      "<ipython-input-13-4cc881e96d46>:2: DeprecationWarning: executable_path has been deprecated, please pass in a Service object\n",
      "  driver = webdriver.Chrome(executable_path=driver_path)\n"
     ]
    }
   ],
   "source": [
    "#  opening the kayak site in chrome\n",
    "driver = webdriver.Chrome(executable_path=driver_path)\n",
    "\n",
    "# driver.get(url_kayak)\n",
    "driver.get(url_aircanada)\n",
    "driver.get('https://www.aircanada.com/us/en/aco/home/app.html#/search?org1=YYZ&dest1=DEL&orgType1=A&destType1=A&departure1=19/03/2022&marketCode=INT&numberOfAdults=1&numberOfYouth=0&numberOfChildren=0&numberOfInfants=0&numberOfInfantsOnSeat=0&tripType=O&isFlexible=false')"
   ]
  },
  {
   "cell_type": "code",
   "execution_count": 14,
   "id": "7e25b5d5",
   "metadata": {},
   "outputs": [],
   "source": [
    "#  opening the page source\n",
    "page_source = driver.page_source"
   ]
  },
  {
   "cell_type": "code",
   "execution_count": 15,
   "id": "4bd309b5",
   "metadata": {
    "scrolled": false
   },
   "outputs": [
    {
     "data": {
      "text/plain": [
       "str"
      ]
     },
     "execution_count": 15,
     "metadata": {},
     "output_type": "execute_result"
    }
   ],
   "source": [
    "type(page_source)"
   ]
  },
  {
   "cell_type": "code",
   "execution_count": 15,
   "id": "7165234b",
   "metadata": {},
   "outputs": [],
   "source": [
    "# //a[@id=\"XbpF-loadMore\"]\n",
    "\n",
    "# //a[@class=\"moreButton\"]"
   ]
  },
  {
   "cell_type": "code",
   "execution_count": 9,
   "id": "d9153c4b",
   "metadata": {},
   "outputs": [
    {
     "name": "stderr",
     "output_type": "stream",
     "text": [
      "<ipython-input-9-4a4eb8896166>:1: DeprecationWarning: find_elements_by_* commands are deprecated. Please use find_elements() instead\n",
      "  show_more_button = driver.find_elements_by_xpath(\"//a[@class='moreButton']\")[0]\n"
     ]
    }
   ],
   "source": [
    "show_more_button = driver.find_elements_by_xpath(\"//a[@class='moreButton']\")[0]\n",
    "show_more_button.click()"
   ]
  },
  {
   "cell_type": "code",
   "execution_count": 37,
   "id": "8c6efe52",
   "metadata": {},
   "outputs": [
    {
     "name": "stderr",
     "output_type": "stream",
     "text": [
      "<ipython-input-37-1aa173260860>:1: DeprecationWarning: find_elements_by_* commands are deprecated. Please use find_elements() instead\n",
      "  a = driver.find_elements_by_xpath(\"//div[@class='display-on-hover']\")[0].get_attribute(\"innerHTML\")\n"
     ]
    }
   ],
   "source": [
    "a = driver.find_elements_by_xpath(\"//div[@class='display-on-hover']\")[0].get_attribute(\"innerHTML\")\n"
   ]
  },
  {
   "cell_type": "code",
   "execution_count": 42,
   "id": "6175433b",
   "metadata": {},
   "outputs": [
    {
     "name": "stderr",
     "output_type": "stream",
     "text": [
      "<ipython-input-42-023f158a639f>:1: DeprecationWarning: find_elements_by_* commands are deprecated. Please use find_elements() instead\n",
      "  a = driver.find_elements_by_xpath(\"//div[@class='display-on-hover']\").text\n"
     ]
    },
    {
     "ename": "AttributeError",
     "evalue": "'list' object has no attribute 'text'",
     "output_type": "error",
     "traceback": [
      "\u001b[1;31m---------------------------------------------------------------------------\u001b[0m",
      "\u001b[1;31mAttributeError\u001b[0m                            Traceback (most recent call last)",
      "\u001b[1;32m<ipython-input-42-023f158a639f>\u001b[0m in \u001b[0;36m<module>\u001b[1;34m\u001b[0m\n\u001b[1;32m----> 1\u001b[1;33m \u001b[0ma\u001b[0m \u001b[1;33m=\u001b[0m \u001b[0mdriver\u001b[0m\u001b[1;33m.\u001b[0m\u001b[0mfind_elements_by_xpath\u001b[0m\u001b[1;33m(\u001b[0m\u001b[1;34m\"//div[@class='display-on-hover']\"\u001b[0m\u001b[1;33m)\u001b[0m\u001b[1;33m.\u001b[0m\u001b[0mtext\u001b[0m\u001b[1;33m\u001b[0m\u001b[1;33m\u001b[0m\u001b[0m\n\u001b[0m",
      "\u001b[1;31mAttributeError\u001b[0m: 'list' object has no attribute 'text'"
     ]
    }
   ],
   "source": [
    "a = driver.find_elements_by_xpath(\"//div[@class='display-on-hover']\").text"
   ]
  },
  {
   "cell_type": "code",
   "execution_count": 43,
   "id": "bc2c84ba",
   "metadata": {},
   "outputs": [
    {
     "name": "stderr",
     "output_type": "stream",
     "text": [
      "<ipython-input-43-5138845649c3>:1: DeprecationWarning: find_elements_by_* commands are deprecated. Please use find_elements() instead\n",
      "  a = driver.find_elements_by_xpath(\"//div[@class='display-on-hover']\")\n"
     ]
    }
   ],
   "source": [
    "a = driver.find_elements_by_xpath(\"//div[@class='display-on-hover']\")"
   ]
  },
  {
   "cell_type": "code",
   "execution_count": 53,
   "id": "8384c0cd",
   "metadata": {},
   "outputs": [
    {
     "data": {
      "text/plain": [
       "'US $1464 '"
      ]
     },
     "execution_count": 53,
     "metadata": {},
     "output_type": "execute_result"
    }
   ],
   "source": [
    "a[4].get_attribute(\"innerHTML\")"
   ]
  },
  {
   "cell_type": "code",
   "execution_count": null,
   "id": "22d04a0d",
   "metadata": {},
   "outputs": [],
   "source": []
  }
 ],
 "metadata": {
  "kernelspec": {
   "display_name": "Python 3",
   "language": "python",
   "name": "python3"
  },
  "language_info": {
   "codemirror_mode": {
    "name": "ipython",
    "version": 3
   },
   "file_extension": ".py",
   "mimetype": "text/x-python",
   "name": "python",
   "nbconvert_exporter": "python",
   "pygments_lexer": "ipython3",
   "version": "3.8.8"
  }
 },
 "nbformat": 4,
 "nbformat_minor": 5
}
